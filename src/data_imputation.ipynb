{
 "cells": [
  {
   "cell_type": "markdown",
   "metadata": {},
   "source": [
    "Data imputation"
   ]
  },
  {
   "cell_type": "code",
   "execution_count": 66,
   "metadata": {},
   "outputs": [
    {
     "data": {
      "text/html": [
       "<div>\n",
       "<style scoped>\n",
       "    .dataframe tbody tr th:only-of-type {\n",
       "        vertical-align: middle;\n",
       "    }\n",
       "\n",
       "    .dataframe tbody tr th {\n",
       "        vertical-align: top;\n",
       "    }\n",
       "\n",
       "    .dataframe thead th {\n",
       "        text-align: right;\n",
       "    }\n",
       "</style>\n",
       "<table border=\"1\" class=\"dataframe\">\n",
       "  <thead>\n",
       "    <tr style=\"text-align: right;\">\n",
       "      <th></th>\n",
       "      <th>SEQN</th>\n",
       "      <th>RIDAGEYR</th>\n",
       "      <th>RIAGENDR</th>\n",
       "      <th>RIDRETH1</th>\n",
       "      <th>RIDRETH3</th>\n",
       "      <th>DMDCITZN</th>\n",
       "      <th>DMDEDUC2</th>\n",
       "      <th>MIALANG</th>\n",
       "      <th>DMDHHSIZ</th>\n",
       "      <th>INDHHIN2</th>\n",
       "      <th>...</th>\n",
       "      <th>LBDHDD</th>\n",
       "      <th>HIQ011</th>\n",
       "      <th>PAQ635</th>\n",
       "      <th>PAQ650</th>\n",
       "      <th>PAQ665</th>\n",
       "      <th>PAD680</th>\n",
       "      <th>PAQ706</th>\n",
       "      <th>PAQ710</th>\n",
       "      <th>LBXTC</th>\n",
       "      <th>LBXTR</th>\n",
       "    </tr>\n",
       "  </thead>\n",
       "  <tbody>\n",
       "    <tr>\n",
       "      <th>0</th>\n",
       "      <td>73557</td>\n",
       "      <td>69</td>\n",
       "      <td>1</td>\n",
       "      <td>4</td>\n",
       "      <td>4</td>\n",
       "      <td>1.0</td>\n",
       "      <td>3.0</td>\n",
       "      <td>1.0</td>\n",
       "      <td>3</td>\n",
       "      <td>4.0</td>\n",
       "      <td>...</td>\n",
       "      <td>65.0</td>\n",
       "      <td>1</td>\n",
       "      <td>2</td>\n",
       "      <td>2</td>\n",
       "      <td>2</td>\n",
       "      <td>600.0</td>\n",
       "      <td>NaN</td>\n",
       "      <td>2.0</td>\n",
       "      <td>167.0</td>\n",
       "      <td>NaN</td>\n",
       "    </tr>\n",
       "    <tr>\n",
       "      <th>1</th>\n",
       "      <td>73558</td>\n",
       "      <td>54</td>\n",
       "      <td>1</td>\n",
       "      <td>3</td>\n",
       "      <td>3</td>\n",
       "      <td>1.0</td>\n",
       "      <td>3.0</td>\n",
       "      <td>1.0</td>\n",
       "      <td>4</td>\n",
       "      <td>7.0</td>\n",
       "      <td>...</td>\n",
       "      <td>50.0</td>\n",
       "      <td>2</td>\n",
       "      <td>2</td>\n",
       "      <td>2</td>\n",
       "      <td>2</td>\n",
       "      <td>540.0</td>\n",
       "      <td>NaN</td>\n",
       "      <td>4.0</td>\n",
       "      <td>170.0</td>\n",
       "      <td>NaN</td>\n",
       "    </tr>\n",
       "    <tr>\n",
       "      <th>2</th>\n",
       "      <td>73559</td>\n",
       "      <td>72</td>\n",
       "      <td>1</td>\n",
       "      <td>3</td>\n",
       "      <td>3</td>\n",
       "      <td>1.0</td>\n",
       "      <td>4.0</td>\n",
       "      <td>1.0</td>\n",
       "      <td>2</td>\n",
       "      <td>10.0</td>\n",
       "      <td>...</td>\n",
       "      <td>60.0</td>\n",
       "      <td>1</td>\n",
       "      <td>2</td>\n",
       "      <td>2</td>\n",
       "      <td>1</td>\n",
       "      <td>300.0</td>\n",
       "      <td>NaN</td>\n",
       "      <td>4.0</td>\n",
       "      <td>126.0</td>\n",
       "      <td>51.0</td>\n",
       "    </tr>\n",
       "    <tr>\n",
       "      <th>3</th>\n",
       "      <td>73561</td>\n",
       "      <td>73</td>\n",
       "      <td>2</td>\n",
       "      <td>3</td>\n",
       "      <td>3</td>\n",
       "      <td>1.0</td>\n",
       "      <td>5.0</td>\n",
       "      <td>1.0</td>\n",
       "      <td>2</td>\n",
       "      <td>15.0</td>\n",
       "      <td>...</td>\n",
       "      <td>85.0</td>\n",
       "      <td>1</td>\n",
       "      <td>2</td>\n",
       "      <td>2</td>\n",
       "      <td>2</td>\n",
       "      <td>480.0</td>\n",
       "      <td>NaN</td>\n",
       "      <td>1.0</td>\n",
       "      <td>201.0</td>\n",
       "      <td>75.0</td>\n",
       "    </tr>\n",
       "    <tr>\n",
       "      <th>4</th>\n",
       "      <td>73562</td>\n",
       "      <td>56</td>\n",
       "      <td>1</td>\n",
       "      <td>1</td>\n",
       "      <td>1</td>\n",
       "      <td>1.0</td>\n",
       "      <td>4.0</td>\n",
       "      <td>1.0</td>\n",
       "      <td>1</td>\n",
       "      <td>9.0</td>\n",
       "      <td>...</td>\n",
       "      <td>38.0</td>\n",
       "      <td>1</td>\n",
       "      <td>2</td>\n",
       "      <td>2</td>\n",
       "      <td>2</td>\n",
       "      <td>360.0</td>\n",
       "      <td>NaN</td>\n",
       "      <td>5.0</td>\n",
       "      <td>226.0</td>\n",
       "      <td>NaN</td>\n",
       "    </tr>\n",
       "  </tbody>\n",
       "</table>\n",
       "<p>5 rows × 62 columns</p>\n",
       "</div>"
      ],
      "text/plain": [
       "    SEQN  RIDAGEYR  RIAGENDR  RIDRETH1  RIDRETH3  DMDCITZN  DMDEDUC2  MIALANG  \\\n",
       "0  73557        69         1         4         4       1.0       3.0      1.0   \n",
       "1  73558        54         1         3         3       1.0       3.0      1.0   \n",
       "2  73559        72         1         3         3       1.0       4.0      1.0   \n",
       "3  73561        73         2         3         3       1.0       5.0      1.0   \n",
       "4  73562        56         1         1         1       1.0       4.0      1.0   \n",
       "\n",
       "   DMDHHSIZ  INDHHIN2  ...  LBDHDD  HIQ011  PAQ635  PAQ650  PAQ665  PAD680  \\\n",
       "0         3       4.0  ...    65.0       1       2       2       2   600.0   \n",
       "1         4       7.0  ...    50.0       2       2       2       2   540.0   \n",
       "2         2      10.0  ...    60.0       1       2       2       1   300.0   \n",
       "3         2      15.0  ...    85.0       1       2       2       2   480.0   \n",
       "4         1       9.0  ...    38.0       1       2       2       2   360.0   \n",
       "\n",
       "   PAQ706  PAQ710  LBXTC  LBXTR  \n",
       "0     NaN     2.0  167.0    NaN  \n",
       "1     NaN     4.0  170.0    NaN  \n",
       "2     NaN     4.0  126.0   51.0  \n",
       "3     NaN     1.0  201.0   75.0  \n",
       "4     NaN     5.0  226.0    NaN  \n",
       "\n",
       "[5 rows x 62 columns]"
      ]
     },
     "execution_count": 66,
     "metadata": {},
     "output_type": "execute_result"
    }
   ],
   "source": [
    "import pandas as pd\n",
    "import numpy as np\n",
    "\n",
    "df = pd.read_csv('../data/data_clean.csv', sep=',', encoding='latin-1')\n",
    "df.head()\n",
    "# df.columns\n",
    "# df.shape\n"
   ]
  },
  {
   "cell_type": "markdown",
   "metadata": {},
   "source": [
    "Data imputation for 3 columns"
   ]
  },
  {
   "cell_type": "code",
   "execution_count": 67,
   "metadata": {},
   "outputs": [],
   "source": [
    "df = df[[\"BMXWT\", \"BMXHT\", \"BMXWAIST\"]]"
   ]
  },
  {
   "cell_type": "markdown",
   "metadata": {},
   "source": [
    "Convert dataframe to numpy array"
   ]
  },
  {
   "cell_type": "code",
   "execution_count": 74,
   "metadata": {},
   "outputs": [],
   "source": [
    "# df[df.isnull()] = 0\n",
    "df.shape\n",
    "np_array = df.to_numpy(copy=True, na_value=0)\n",
    "\n",
    "# for column in df.columns:\n",
    "#     df_null_inx.append(df[df[column].isnull()].index.tolist())\n",
    "\n",
    "# # df_null_inx\n",
    "\n",
    "# for column in df.columns:\n",
    "#     df[column].fillna((df[column].mean()), inplace=True)\n",
    "\n"
   ]
  },
  {
   "cell_type": "markdown",
   "metadata": {},
   "source": [
    "Get non-missing indices"
   ]
  },
  {
   "cell_type": "code",
   "execution_count": 77,
   "metadata": {},
   "outputs": [
    {
     "name": "stdout",
     "output_type": "stream",
     "text": [
      "[    0     1     2 ... 17304 17305 17306]\n"
     ]
    }
   ],
   "source": [
    "np_array\n",
    "nonmissing_indices = np.flatnonzero(np_array > 0.1)\n",
    "print(nonmissing_indices)\n",
    "# u, s, v = np.linalg.svd(df)\n"
   ]
  },
  {
   "cell_type": "markdown",
   "metadata": {},
   "source": [
    "fill an array with available data"
   ]
  },
  {
   "cell_type": "code",
   "execution_count": 83,
   "metadata": {},
   "outputs": [],
   "source": [
    "rating_matrix_ini = np.zeros(np_array.shape)\n",
    "rating_matrix_ini.flat[nonmissing_indices] = np_array.flat[nonmissing_indices]\n",
    "\n",
    "\n",
    "# rating_matrix_ini\n",
    "# for column in np_array.shape[1]:\n",
    "#     np_array[:,column] = "
   ]
  },
  {
   "cell_type": "markdown",
   "metadata": {},
   "source": [
    "Impute missing data"
   ]
  },
  {
   "cell_type": "code",
   "execution_count": 101,
   "metadata": {},
   "outputs": [],
   "source": [
    "# rating_matrix_ini[6,:]\n",
    "for column in range(np_array.shape[1]):\n",
    "    np_array[np.where(np_array[:,column] == 0),column] = np.mean(np_array[:,column])\n",
    "\n"
   ]
  },
  {
   "cell_type": "code",
   "execution_count": 106,
   "metadata": {},
   "outputs": [
    {
     "data": {
      "text/plain": [
       "(5769, 3)"
      ]
     },
     "execution_count": 106,
     "metadata": {},
     "output_type": "execute_result"
    }
   ],
   "source": [
    "np_array.shape"
   ]
  },
  {
   "cell_type": "markdown",
   "metadata": {},
   "source": [
    "Fit low rank model for rank 1"
   ]
  },
  {
   "cell_type": "code",
   "execution_count": 109,
   "metadata": {},
   "outputs": [
    {
     "name": "stdout",
     "output_type": "stream",
     "text": [
      "Iteration 0 Error: 13.827948862557633\n",
      "Iteration 1 Error: 12.66187625529023\n",
      "Iteration 2 Error: 12.540433132217627\n",
      "Iteration 3 Error: 12.512156916173343\n",
      "Iteration 4 Error: 12.500301721351864\n",
      "[[ 83.71757929 168.15033455 100.75500642]\n",
      " [ 88.5602766  177.877099   106.58324468]\n",
      " [ 88.30001443 177.35435131 106.27001636]\n",
      " ...\n",
      " [ 83.52249682 167.75850307 100.52022256]\n",
      " [ 80.32002119 161.32619397  96.66600873]\n",
      " [ 83.1734518  167.05743124 100.10014313]]\n"
     ]
    }
   ],
   "source": [
    "def fit_low_rank_model(rank,rating_matrix_ini,train_ind,train_data,n_iter,convergence_thresh,verbose):\n",
    "    \"\"\"Fit the low rank model. \n",
    "    Return the estimation of the low rank model - (n_movies * n_users) matrix\n",
    "\n",
    "    Keyword arguments:\n",
    "    rank -- the rank of low rank model\n",
    "    rating_matrix_ini -- imputed initialization\n",
    "    train_ind -- index of training data\n",
    "    train_data -- ratings of training set\n",
    "    n_iter -- the max number of iterations\n",
    "    convergence_thresh -- the threshold of convergence to 0\n",
    "    \"\"\"\n",
    "    previous_fitting_error = 100\n",
    "    # Initialization\n",
    "    low_rank_estimate = np.zeros(rating_matrix_ini.shape)\n",
    "    # fill input data\n",
    "    low_rank_estimate.flat[train_ind] = train_data\n",
    "    # get the indexes of missing data\n",
    "    missing_inds = np.where(low_rank_estimate.flat == 0)\n",
    "    # fill missing data with imputed values\n",
    "    low_rank_estimate.flat[missing_inds] = rating_matrix_ini.flat[missing_inds]\n",
    "\n",
    "    \n",
    "    for ind in range(n_iter):\n",
    "        # Updates\n",
    "        low_rank_estimate.flat[train_ind] = train_data\n",
    "        u, s, v = np.linalg.svd(low_rank_estimate)\n",
    "        s_matrix = s  * np.eye(len(s))\n",
    "        low_rank_estimate = np.matmul(np.matmul(u[:,0:rank], s_matrix[0:rank,0:rank]), v[0:rank,:])\n",
    "        # Compute error\n",
    "        fitting_error = np.sqrt(((train_data - low_rank_estimate.flat[train_ind])**2).mean())\n",
    "        if verbose:\n",
    "            print(\"Iteration \" + str(ind) + \" Error: \" + str(fitting_error))\n",
    "        \n",
    "        # Stopping criterion\n",
    "        if (fitting_error <= convergence_thresh):\n",
    "            print('converged, breaking')\n",
    "            break\n",
    "    return low_rank_estimate\n",
    "\n",
    "n_iter = 5\n",
    "convergence_thresh = 1e-4\n",
    "verbose = True\n",
    "rank = 1\n",
    "train_data = np_array.flat[nonmissing_indices] \n",
    "estimate =fit_low_rank_model(rank,rating_matrix_ini,nonmissing_indices,train_data,n_iter,convergence_thresh,verbose)\n",
    "print(estimate)"
   ]
  }
 ],
 "metadata": {
  "interpreter": {
   "hash": "a8552ac0c6e576d0bdc3bd33ce8ce0e25ff1726c17fcf557906b98a29d09c59b"
  },
  "kernelspec": {
   "display_name": "Python 3.10.2 ('mlenv')",
   "language": "python",
   "name": "python3"
  },
  "language_info": {
   "codemirror_mode": {
    "name": "ipython",
    "version": 3
   },
   "file_extension": ".py",
   "mimetype": "text/x-python",
   "name": "python",
   "nbconvert_exporter": "python",
   "pygments_lexer": "ipython3",
   "version": "3.10.2"
  },
  "orig_nbformat": 4
 },
 "nbformat": 4,
 "nbformat_minor": 2
}
