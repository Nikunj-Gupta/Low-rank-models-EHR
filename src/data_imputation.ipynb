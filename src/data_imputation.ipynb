{
 "cells": [
  {
   "cell_type": "markdown",
   "metadata": {},
   "source": [
    "## Data Imputation "
   ]
  },
  {
   "cell_type": "markdown",
   "metadata": {},
   "source": [
    "## Stage 1: \n",
    "- preparing data \n",
    "- data imputation for 4 columns in the matrix "
   ]
  },
  {
   "cell_type": "code",
   "execution_count": 1,
   "metadata": {},
   "outputs": [],
   "source": [
    "import pandas as pd\n",
    "import numpy as np\n",
    "\n",
    "df = pd.read_csv('../data/data_clean.csv', sep=',', encoding='latin-1')\n",
    "df = df.drop(columns=['PAQ706'])\n",
    "# print(df.head(), df.columns, df.shape)\n",
    "\n",
    "\n",
    "# df = df[[\"BPXPLS\", \"BMXARMC\", \"bmi\", \"highbp\" ]] # Reading 4 columns for now \n",
    "np_array = df.to_numpy(copy=True, na_value=np.nan) # Convert dataframe to numpy array "
   ]
  },
  {
   "cell_type": "markdown",
   "metadata": {},
   "source": [
    "To test our code, we will first delete values ourselves and compare output"
   ]
  },
  {
   "cell_type": "markdown",
   "metadata": {},
   "source": [
    "## Stage 1A: \n",
    "- 1) Considering data with only non missing values (delete rows with any missing values)\n",
    "- 2) Dropping values at random from this data \n",
    "- 3) Applying Low Rank Model estimation \n",
    "- 4) Evaluating the low rank estimate using true values "
   ]
  },
  {
   "cell_type": "code",
   "execution_count": 2,
   "metadata": {},
   "outputs": [
    {
     "name": "stdout",
     "output_type": "stream",
     "text": [
      "[[7.36880000e+04 5.80000000e+01 1.00000000e+00 ... 0.00000000e+00\n",
      "  0.00000000e+00 3.35591230e+01]\n",
      " [7.43490000e+04 5.70000000e+01 2.00000000e+00 ... 0.00000000e+00\n",
      "  0.00000000e+00 2.89782389e+01]\n",
      " [           nan 4.70000000e+01 1.00000000e+00 ... 0.00000000e+00\n",
      "  0.00000000e+00 3.35804853e+01]\n",
      " ...\n",
      " [8.28570000e+04 4.70000000e+01 2.00000000e+00 ... 0.00000000e+00\n",
      "  1.00000000e+00 4.84151583e+01]\n",
      " [8.31000000e+04 5.70000000e+01 2.00000000e+00 ... 1.00000000e+00\n",
      "  1.00000000e+00 4.28618920e+01]\n",
      " [8.33760000e+04 4.30000000e+01 2.00000000e+00 ... 0.00000000e+00\n",
      "             nan 5.00250699e+01]]\n"
     ]
    }
   ],
   "source": [
    "## nonmissing_data is our ground truth, \n",
    "## MCAR stands for Missing completely at random; MCAR_data is to evaluate low rank model algorithm \n",
    "\n",
    "nonmissing_data = np_array[~np.isnan(np_array).any(axis=1), :] # delete rows with any missing values\n",
    "MCAR_missing_indices = np.random.choice( # randomly select values from length ie flat array \n",
    "    len(nonmissing_data.flatten()), \n",
    "    size=int(len(nonmissing_data.flatten())/10)) \n",
    "\n",
    "MCAR_data = nonmissing_data\n",
    "MCAR_data.flat[MCAR_missing_indices] = np.nan\n",
    "print(MCAR_data) "
   ]
  },
  {
   "cell_type": "markdown",
   "metadata": {},
   "source": [
    "## Low Rank Estimation "
   ]
  },
  {
   "cell_type": "code",
   "execution_count": 3,
   "metadata": {},
   "outputs": [],
   "source": [
    "## FIX: delete this line when no longer working with MCAR_data \n",
    "# np_array = MCAR_data \n",
    "\n",
    "## Get non-missing indices \n",
    "nonmissing_indices = np.argwhere(~np.isnan(np_array.flatten())).reshape(-1) \n",
    "\n",
    "## Create initial matrix (impute nans with zeroes) \n",
    "rating_matrix_ini = np.zeros(np_array.shape)\n",
    "rating_matrix_ini.flat[nonmissing_indices] = np_array.flat[nonmissing_indices] "
   ]
  },
  {
   "cell_type": "code",
   "execution_count": 4,
   "metadata": {},
   "outputs": [
    {
     "name": "stdout",
     "output_type": "stream",
     "text": [
      "[5.98647588e+06 1.80680717e+05 8.69177642e+04 4.59628057e+04\n",
      " 4.38329545e+04 1.45712498e+04 5.30025010e+03 5.02203905e+03\n",
      " 2.50712961e+03 2.22409090e+03 2.06990511e+03 1.71983149e+03\n",
      " 1.42890799e+03 1.31522513e+03 1.20736989e+03 8.25271011e+02\n",
      " 6.64592924e+02 6.51872088e+02 5.28047958e+02 4.86550581e+02\n",
      " 4.73797660e+02 3.90615986e+02 3.29531058e+02 3.07265875e+02\n",
      " 1.68065828e+02 1.46440192e+02 1.32163852e+02 1.24109379e+02\n",
      " 1.15063105e+02 1.11460499e+02 1.04225679e+02 8.39265952e+01\n",
      " 7.92520488e+01 7.73810572e+01 7.06542126e+01 6.65199521e+01\n",
      " 6.41531250e+01 5.63958088e+01 5.52050926e+01 5.17119836e+01\n",
      " 3.92930754e+01 3.77481293e+01 3.50814867e+01 3.38413187e+01\n",
      " 3.21135450e+01 3.14121557e+01 2.92378566e+01 2.73760266e+01\n",
      " 2.66489676e+01 2.50650814e+01 2.34772835e+01 2.19209149e+01\n",
      " 1.81732904e+01 1.61398359e+01 1.52313684e+01 1.39468281e+01\n",
      " 1.36175005e+01]\n"
     ]
    }
   ],
   "source": [
    "## Check approprate rank that can be used for low rank model estimation \n",
    "## Using singular values in the svd of the data matrix \n",
    "\n",
    "_, s, _ = np.linalg.svd(rating_matrix_ini) \n",
    "print(s)\n"
   ]
  },
  {
   "cell_type": "code",
   "execution_count": 5,
   "metadata": {},
   "outputs": [],
   "source": [
    "RANK = 6 "
   ]
  },
  {
   "cell_type": "code",
   "execution_count": 6,
   "metadata": {},
   "outputs": [],
   "source": [
    "## Impute missing values with column mean to begin with \n",
    "col_mean = np.nanmean(np_array, axis=0)\n",
    "inds = np.where(np.isnan(np_array))\n",
    "np_array[inds] = np.take(col_mean, inds[1]) "
   ]
  },
  {
   "cell_type": "code",
   "execution_count": 7,
   "metadata": {},
   "outputs": [
    {
     "name": "stdout",
     "output_type": "stream",
     "text": [
      "Iteration 0 Error: 14.384228277859698\n",
      "Iteration 1 Error: 14.017164601190816\n",
      "Iteration 2 Error: 13.999889889374879\n",
      "Iteration 3 Error: 13.998348512863066\n",
      "Iteration 4 Error: 13.998091314358561\n",
      "Iteration 5 Error: 13.998027014545473\n",
      "Iteration 6 Error: 13.998003840227442\n",
      "Iteration 7 Error: 13.997991467282132\n",
      "Iteration 8 Error: 13.997982711458535\n",
      "Iteration 9 Error: 13.997975550524037\n",
      "Iteration 10 Error: 13.997969255539596\n",
      "Iteration 11 Error: 13.997963485110544\n",
      "Iteration 12 Error: 13.997958047408746\n",
      "Iteration 13 Error: 13.997952823997121\n",
      "Iteration 14 Error: 13.997947738412789\n",
      "Iteration 15 Error: 13.997942740115795\n",
      "Iteration 16 Error: 13.997937795181318\n",
      "Iteration 17 Error: 13.997932880555027\n",
      "Iteration 18 Error: 13.99792798039554\n",
      "Iteration 19 Error: 13.997923083702918\n",
      "Estimate = \n",
      " [[7.35570590e+04 4.65267240e+01 1.46395511e+00 ... 8.28880346e-02\n",
      "  3.38038373e-01 2.73509595e+01]\n",
      " [7.35580264e+04 4.35393529e+01 8.19679189e-01 ... 1.67448305e-01\n",
      "  3.90104808e-01 2.94714381e+01]\n",
      " [7.35589333e+04 4.47311480e+01 1.44712996e+00 ... 7.57197435e-02\n",
      "  3.26282854e-01 2.69794950e+01]\n",
      " ...\n",
      " [8.37259771e+04 5.79003025e+01 1.78053787e+00 ... 9.02539659e-02\n",
      "  4.42164406e-01 3.04541693e+01]\n",
      " [8.37268945e+04 4.68798357e+01 1.32432968e+00 ... 1.00305217e-01\n",
      "  3.51728509e-01 3.09180622e+01]\n",
      " [8.37288679e+04 5.08913354e+01 1.56687921e+00 ... 7.75861108e-02\n",
      "  3.69546557e-01 3.07125193e+01]]\n"
     ]
    }
   ],
   "source": [
    "def fit_low_rank_model(rank, \n",
    "                       rating_matrix_ini, \n",
    "                       train_ind, \n",
    "                       train_data, \n",
    "                       n_iter, \n",
    "                       convergence_thresh, \n",
    "                       verbose, \n",
    "                       data1=None, \n",
    "                       missing_indices=None): \n",
    "    \n",
    "    \"\"\"Fit the low rank model. \n",
    "    Return the estimation of the low rank model - (n_movies * n_users) matrix\n",
    "\n",
    "    Keyword arguments:\n",
    "    rank -- the rank of low rank model\n",
    "    rating_matrix_ini -- imputed initialization\n",
    "    train_ind -- index of training data\n",
    "    train_data -- ratings of training set\n",
    "    n_iter -- the max number of iterations\n",
    "    convergence_thresh -- the threshold of convergence to 0\n",
    "    \"\"\"\n",
    "    \n",
    "    previous_fitting_error = 100\n",
    "    # Initialization\n",
    "    low_rank_estimate = np.zeros(rating_matrix_ini.shape)\n",
    "    # fill input data\n",
    "    low_rank_estimate.flat[train_ind] = train_data\n",
    "    # get the indexes of missing data\n",
    "    missing_inds = np.where(low_rank_estimate.flat == 0)\n",
    "    # fill missing data with imputed values\n",
    "    low_rank_estimate.flat[missing_inds] = rating_matrix_ini.flat[missing_inds]\n",
    "\n",
    "    \n",
    "    for ind in range(n_iter):\n",
    "        # Updates\n",
    "        low_rank_estimate.flat[train_ind] = train_data\n",
    "        u, s, v = np.linalg.svd(low_rank_estimate)\n",
    "        s_matrix = s  * np.eye(len(s))\n",
    "        low_rank_estimate = np.matmul(np.matmul(u[:,0:rank], s_matrix[0:rank,0:rank]), v[0:rank,:])\n",
    "        # Compute error\n",
    "        fitting_error = np.sqrt(((train_data - low_rank_estimate.flat[train_ind])**2).mean())\n",
    "        if (not (data1 == None)): \n",
    "            #true fitting error, compared to true values\n",
    "            true_fitting_error = np.sqrt(((data1.flat[missing_indices] - low_rank_estimate.flat[missing_indices])**2).mean())\n",
    "        if verbose:\n",
    "            print(\"Iteration \" + str(ind) + \" Error: \" + str(fitting_error))\n",
    "            if (not (data1 == None)): \n",
    "                print(\"Iteration \" + str(ind) + \" True Error: \" + str(true_fitting_error)) \n",
    "                print() \n",
    "        \n",
    "        # Stopping criterion\n",
    "        if (fitting_error <= convergence_thresh):\n",
    "            print('converged, breaking')\n",
    "            break\n",
    "    return low_rank_estimate\n",
    "\n",
    "n_iter = 20 \n",
    "convergence_thresh = 1e-4\n",
    "verbose = True\n",
    "rank = RANK \n",
    "train_data = np_array.flat[nonmissing_indices] \n",
    "# estimate =fit_low_rank_model(rank,rating_matrix_ini,nonmissing_indices,\n",
    "#         train_data,n_iter,convergence_thresh,verbose, nonmissing_data, MCAR_missing_indices)\n",
    "\n",
    "estimate = fit_low_rank_model(rank, \n",
    "                             rating_matrix_ini, \n",
    "                             nonmissing_indices, \n",
    "                             train_data, \n",
    "                             n_iter, \n",
    "                             convergence_thresh, \n",
    "                             verbose) \n",
    "\n",
    "print(\"Estimate = \\n\", estimate)\n",
    "\n"
   ]
  },
  {
   "cell_type": "code",
   "execution_count": null,
   "metadata": {},
   "outputs": [],
   "source": []
  }
 ],
 "metadata": {
  "interpreter": {
   "hash": "a8552ac0c6e576d0bdc3bd33ce8ce0e25ff1726c17fcf557906b98a29d09c59b"
  },
  "kernelspec": {
   "display_name": "Python 3 (ipykernel)",
   "language": "python",
   "name": "python3"
  },
  "language_info": {
   "codemirror_mode": {
    "name": "ipython",
    "version": 3
   },
   "file_extension": ".py",
   "mimetype": "text/x-python",
   "name": "python",
   "nbconvert_exporter": "python",
   "pygments_lexer": "ipython3",
   "version": "3.8.9"
  }
 },
 "nbformat": 4,
 "nbformat_minor": 4
}
