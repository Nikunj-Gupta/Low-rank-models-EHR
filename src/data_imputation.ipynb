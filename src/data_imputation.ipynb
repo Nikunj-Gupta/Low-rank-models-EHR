{
 "cells": [
  {
   "cell_type": "markdown",
   "metadata": {},
   "source": [
    "## Data Imputation "
   ]
  },
  {
   "cell_type": "markdown",
   "metadata": {},
   "source": [
    "## Stage 1: \n",
    "- preparing data \n",
    "- data imputation for 4 columns in the matrix "
   ]
  },
  {
   "cell_type": "code",
   "execution_count": 1,
   "metadata": {},
   "outputs": [],
   "source": [
    "import pandas as pd\n",
    "import numpy as np\n",
    "\n",
    "df = pd.read_csv('../data/data_clean.csv', sep=',', encoding='latin-1')\n",
    "# print(df.head(), df.columns, df.shape)\n",
    "\n",
    "df = df[[\"BPXPLS\", \"BMXARMC\", \"bmi\", \"highbp\" ]] # Reading 4 columns for now \n",
    "np_array = df.to_numpy(copy=True, na_value=np.nan) # Convert dataframe to numpy array "
   ]
  },
  {
   "cell_type": "markdown",
   "metadata": {},
   "source": [
    "To test our code, we will first delete values ourselves and compare output"
   ]
  },
  {
   "cell_type": "markdown",
   "metadata": {},
   "source": [
    "## Stage 1A: \n",
    "- 1) Considering data with only non missing values (delete rows with any missing values)\n",
    "- 2) Dropping values at random from this data \n",
    "- 3) Applying Low Rank Model estimation \n",
    "- 4) Evaluating the low rank estimate using true values "
   ]
  },
  {
   "cell_type": "code",
   "execution_count": 2,
   "metadata": {},
   "outputs": [
    {
     "name": "stdout",
     "output_type": "stream",
     "text": [
      "[[86.         35.3        26.68376063         nan]\n",
      " [74.         34.7        28.6324502   1.        ]\n",
      " [68.         33.5        28.92930024  1.        ]\n",
      " ...\n",
      " [54.         31.         24.8902376          nan]\n",
      " [60.         29.9        24.46863363  0.        ]\n",
      " [80.         37.         34.01503875  1.        ]]\n"
     ]
    }
   ],
   "source": [
    "## nonmissing_data is our ground truth, \n",
    "## MCAR stands for Missing completely at random; MCAR_data is to evaluate low rank model algorithm \n",
    "\n",
    "nonmissing_data = np_array[~np.isnan(np_array).any(axis=1), :] # delete rows with any missing values\n",
    "MCAR_missing_indices = np.random.choice( # randomly select values from length ie flat array \n",
    "    len(nonmissing_data.flatten()), \n",
    "    size=int(len(nonmissing_data.flatten())/10)) \n",
    "\n",
    "MCAR_data = nonmissing_data\n",
    "MCAR_data.flat[MCAR_missing_indices] = np.nan\n",
    "print(MCAR_data) "
   ]
  },
  {
   "cell_type": "markdown",
   "metadata": {},
   "source": [
    "## Low Rank Estimation "
   ]
  },
  {
   "cell_type": "code",
   "execution_count": 3,
   "metadata": {},
   "outputs": [],
   "source": [
    "## FIX: delete this line when no longer working with MCAR_data \n",
    "np_array = MCAR_data \n",
    "\n",
    "## Get non-missing indices \n",
    "nonmissing_indices = np.argwhere(~np.isnan(np_array.flatten())).reshape(-1) \n",
    "\n",
    "## Create initial matrix (impute nans with zeroes) \n",
    "rating_matrix_ini = np.zeros(np_array.shape)\n",
    "rating_matrix_ini.flat[nonmissing_indices] = np_array.flat[nonmissing_indices] "
   ]
  },
  {
   "cell_type": "code",
   "execution_count": 7,
   "metadata": {},
   "outputs": [
    {
     "name": "stdout",
     "output_type": "stream",
     "text": [
      "[5586.98556461 1086.21896908  665.22551182   32.75907023]\n"
     ]
    }
   ],
   "source": [
    "## Check approprate rank that can be used for low rank model estimation \n",
    "## Using singular values in the svd of the data matrix \n",
    "\n",
    "_, s, _ = np.linalg.svd(rating_matrix_ini) \n",
    "print(s)\n",
    "RANK = 1"
   ]
  },
  {
   "cell_type": "code",
   "execution_count": 8,
   "metadata": {},
   "outputs": [],
   "source": [
    "## Impute missing values with column mean to begin with \n",
    "col_mean = np.nanmean(np_array, axis=0)\n",
    "inds = np.where(np.isnan(np_array))\n",
    "np_array[inds] = np.take(col_mean, inds[1]) "
   ]
  },
  {
   "cell_type": "code",
   "execution_count": 10,
   "metadata": {},
   "outputs": [
    {
     "name": "stdout",
     "output_type": "stream",
     "text": [
      "Iteration 0 Error: 7.226457640721344\n",
      "Iteration 0 True Error: 27.950516777801386\n",
      "\n",
      "Iteration 1 Error: 5.841031803144989\n",
      "Iteration 1 True Error: 21.6498529983792\n",
      "\n",
      "Iteration 2 Error: 5.270315582574567\n",
      "Iteration 2 True Error: 17.410515522344703\n",
      "\n",
      "Iteration 3 Error: 4.9495701875919895\n",
      "Iteration 3 True Error: 14.487777574744618\n",
      "\n",
      "Iteration 4 Error: 4.762444252868567\n",
      "Iteration 4 True Error: 12.4811579337921\n",
      "\n",
      "Iteration 5 Error: 4.651678923650088\n",
      "Iteration 5 True Error: 11.110689896306265\n",
      "\n",
      "Iteration 6 Error: 4.584939475800316\n",
      "Iteration 6 True Error: 10.176741537517527\n",
      "\n",
      "Iteration 7 Error: 4.543851354861755\n",
      "Iteration 7 True Error: 9.538754653617001\n",
      "\n",
      "Iteration 8 Error: 4.517947961532613\n",
      "Iteration 8 True Error: 9.099849927513096\n",
      "\n",
      "Iteration 9 Error: 4.501212040342588\n",
      "Iteration 9 True Error: 8.794632567178635\n",
      "\n",
      "Iteration 10 Error: 4.490134082281851\n",
      "Iteration 10 True Error: 8.57960464043844\n",
      "\n",
      "Iteration 11 Error: 4.482630527727341\n",
      "Iteration 11 True Error: 8.426016740940312\n",
      "\n",
      "Iteration 12 Error: 4.477439397492059\n",
      "Iteration 12 True Error: 8.314836508168408\n",
      "\n",
      "Iteration 13 Error: 4.47377967871818\n",
      "Iteration 13 True Error: 8.233362759162038\n",
      "\n",
      "Iteration 14 Error: 4.471157007146102\n",
      "Iteration 14 True Error: 8.1730127583768\n",
      "\n",
      "Iteration 15 Error: 4.4692512142570315\n",
      "Iteration 15 True Error: 8.127898486737083\n",
      "\n",
      "Iteration 16 Error: 4.4678502082763085\n",
      "Iteration 16 True Error: 8.093914934665337\n",
      "\n",
      "Iteration 17 Error: 4.466810419504231\n",
      "Iteration 17 True Error: 8.068154304437682\n",
      "\n",
      "Iteration 18 Error: 4.466032691550617\n",
      "Iteration 18 True Error: 8.048526082296377\n",
      "\n",
      "Iteration 19 Error: 4.4654472916731525\n",
      "Iteration 19 True Error: 8.033507271837056\n",
      "\n",
      "Estimate = \n",
      " [[82.60782262 37.30763485 32.92059534  0.40243595]\n",
      " [74.17558593 33.49943852 29.56020836  0.36135709]\n",
      " [69.46202999 31.37068584 27.68177769  0.33839432]\n",
      " ...\n",
      " [57.17690434 25.82243426 22.78595018  0.27854556]\n",
      " [61.09077918 27.59003216 24.34569459  0.29761256]\n",
      " [80.91447989 36.54288146 32.24577001  0.39418659]]\n"
     ]
    }
   ],
   "source": [
    "def fit_low_rank_model(rank, \n",
    "                       rating_matrix_ini, \n",
    "                       train_ind, \n",
    "                       train_data, \n",
    "                       n_iter, \n",
    "                       convergence_thresh, \n",
    "                       verbose, \n",
    "                       data1, \n",
    "                       missing_indices): \n",
    "    \n",
    "    \"\"\"Fit the low rank model. \n",
    "    Return the estimation of the low rank model - (n_movies * n_users) matrix\n",
    "\n",
    "    Keyword arguments:\n",
    "    rank -- the rank of low rank model\n",
    "    rating_matrix_ini -- imputed initialization\n",
    "    train_ind -- index of training data\n",
    "    train_data -- ratings of training set\n",
    "    n_iter -- the max number of iterations\n",
    "    convergence_thresh -- the threshold of convergence to 0\n",
    "    \"\"\"\n",
    "    \n",
    "    previous_fitting_error = 100\n",
    "    # Initialization\n",
    "    low_rank_estimate = np.zeros(rating_matrix_ini.shape)\n",
    "    # fill input data\n",
    "    low_rank_estimate.flat[train_ind] = train_data\n",
    "    # get the indexes of missing data\n",
    "    missing_inds = np.where(low_rank_estimate.flat == 0)\n",
    "    # fill missing data with imputed values\n",
    "    low_rank_estimate.flat[missing_inds] = rating_matrix_ini.flat[missing_inds]\n",
    "\n",
    "    \n",
    "    for ind in range(n_iter):\n",
    "        # Updates\n",
    "        low_rank_estimate.flat[train_ind] = train_data\n",
    "        u, s, v = np.linalg.svd(low_rank_estimate)\n",
    "        s_matrix = s  * np.eye(len(s))\n",
    "        low_rank_estimate = np.matmul(np.matmul(u[:,0:rank], s_matrix[0:rank,0:rank]), v[0:rank,:])\n",
    "        # Compute error\n",
    "        fitting_error = np.sqrt(((train_data - low_rank_estimate.flat[train_ind])**2).mean())\n",
    "        #true fitting error, compared to true values\n",
    "        true_fitting_error = np.sqrt(((data1.flat[missing_indices] - low_rank_estimate.flat[missing_indices])**2).mean())\n",
    "        if verbose:\n",
    "            print(\"Iteration \" + str(ind) + \" Error: \" + str(fitting_error))\n",
    "            print(\"Iteration \" + str(ind) + \" True Error: \" + str(true_fitting_error)) \n",
    "            print() \n",
    "        \n",
    "        # Stopping criterion\n",
    "        if (fitting_error <= convergence_thresh):\n",
    "            print('converged, breaking')\n",
    "            break\n",
    "    return low_rank_estimate\n",
    "\n",
    "n_iter = 5 \n",
    "convergence_thresh = 1e-4\n",
    "verbose = True\n",
    "rank = RANK \n",
    "train_data = np_array.flat[nonmissing_indices] \n",
    "estimate =fit_low_rank_model(rank,rating_matrix_ini,nonmissing_indices,\n",
    "        train_data,n_iter,convergence_thresh,verbose, nonmissing_data, MCAR_missing_indices)\n",
    "print(\"Estimate = \\n\", estimate)\n",
    "\n"
   ]
  }
 ],
 "metadata": {
  "interpreter": {
   "hash": "a8552ac0c6e576d0bdc3bd33ce8ce0e25ff1726c17fcf557906b98a29d09c59b"
  },
  "kernelspec": {
   "display_name": "Python 3 (ipykernel)",
   "language": "python",
   "name": "python3"
  },
  "language_info": {
   "codemirror_mode": {
    "name": "ipython",
    "version": 3
   },
   "file_extension": ".py",
   "mimetype": "text/x-python",
   "name": "python",
   "nbconvert_exporter": "python",
   "pygments_lexer": "ipython3",
   "version": "3.8.9"
  }
 },
 "nbformat": 4,
 "nbformat_minor": 4
}
