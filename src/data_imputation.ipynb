{
 "cells": [
  {
   "cell_type": "markdown",
   "metadata": {},
   "source": [
    "## Data Imputation "
   ]
  },
  {
   "cell_type": "markdown",
   "metadata": {},
   "source": [
    "## Stage 1: \n",
    "- preparing data \n",
    "- data imputation for 4 columns in the matrix "
   ]
  },
  {
   "cell_type": "code",
   "execution_count": 38,
   "metadata": {},
   "outputs": [],
   "source": [
    "import pandas as pd\n",
    "import numpy as np\n",
    "import matplotlib.pyplot as plt\n",
    "\n",
    "df = pd.read_csv('../data/data_clean.csv', sep=',', encoding='latin-1')\n",
    "df = df.drop(columns=['SEQN', 'PAQ706'])\n",
    "# print(df.head(), df.columns, df.shape)\n"
   ]
  },
  {
   "cell_type": "code",
   "execution_count": 39,
   "metadata": {},
   "outputs": [],
   "source": [
    "df = df[df.BPXSY1.notnull()]"
   ]
  },
  {
   "cell_type": "code",
   "execution_count": 40,
   "metadata": {},
   "outputs": [],
   "source": [
    "# regressing on this column \n",
    "df = df.drop(columns=['BPXSY1'])"
   ]
  },
  {
   "cell_type": "code",
   "execution_count": 41,
   "metadata": {},
   "outputs": [],
   "source": [
    "# df = df[[\"BPXPLS\", \"BMXARMC\", \"bmi\", \"highbp\" ]] # Reading 4 columns for now \n",
    "np_array = df.to_numpy(copy=True, na_value=np.nan) # Convert dataframe to numpy array "
   ]
  },
  {
   "cell_type": "markdown",
   "metadata": {},
   "source": [
    "To test our code, we will first delete values ourselves and compare output"
   ]
  },
  {
   "cell_type": "markdown",
   "metadata": {},
   "source": [
    "## Stage 1A: \n",
    "- 1) Considering data with only non missing values (delete rows with any missing values)\n",
    "- 2) Dropping values at random from this data \n",
    "- 3) Applying Low Rank Model estimation \n",
    "- 4) Evaluating the low rank estimate using true values "
   ]
  },
  {
   "cell_type": "code",
   "execution_count": 42,
   "metadata": {},
   "outputs": [
    {
     "name": "stdout",
     "output_type": "stream",
     "text": [
      "[[ 58.           1.           3.         ... 179.                  nan\n",
      "   33.55912298]\n",
      " [ 57.           2.           2.         ... 235.           0.\n",
      "   28.97823892]\n",
      " [ 47.                  nan   3.         ... 230.           0.\n",
      "           nan]\n",
      " ...\n",
      " [         nan   2.           4.         ... 141.                  nan\n",
      "   48.41515831]\n",
      " [ 57.           2.           4.         ... 241.           1.\n",
      "   42.86189205]\n",
      " [ 43.           2.           4.         ... 169.           0.\n",
      "   50.0250699 ]]\n"
     ]
    }
   ],
   "source": [
    "## nonmissing_data is our ground truth, \n",
    "## MCAR stands for Missing completely at random; MCAR_data is to evaluate low rank model algorithm \n",
    "\n",
    "nonmissing_data = np_array[~np.isnan(np_array).any(axis=1), :] # delete rows with any missing values\n",
    "MCAR_missing_indices = np.random.choice( # randomly select values from length ie flat array \n",
    "    len(nonmissing_data.flatten()), \n",
    "    size=int(len(nonmissing_data.flatten())/10)) \n",
    "\n",
    "MCAR_data = nonmissing_data\n",
    "MCAR_data.flat[MCAR_missing_indices] = np.nan\n",
    "print(MCAR_data) "
   ]
  },
  {
   "cell_type": "markdown",
   "metadata": {},
   "source": [
    "## Low Rank Estimation "
   ]
  },
  {
   "cell_type": "code",
   "execution_count": 105,
   "metadata": {},
   "outputs": [],
   "source": [
    "## FIX: delete this line when no longer working with MCAR_data \n",
    "# np_array = MCAR_data \n",
    "\n",
    "## Get non-missing indices \n",
    "nonmissing_indices = np.argwhere(~np.isnan(np_array.flatten())).reshape(-1) \n",
    "\n",
    "\n",
    "## Create initial matrix (impute nans with zeroes) \n",
    "rating_matrix_ini = np.zeros(np_array.shape) - 1 \n",
    "rating_matrix_ini.flat[nonmissing_indices] = np_array.flat[nonmissing_indices] \n",
    "\n",
    "# # TEST CODE START\n",
    "# missing_indices = np.argwhere(np.isnan(np_array.flatten())).reshape(-1) \n",
    "# rating_matrix_ini.flat[missing_indices] = np_array.flat[missing_indices] \n",
    "# # TEST CODE START"
   ]
  },
  {
   "cell_type": "code",
   "execution_count": 34,
   "metadata": {},
   "outputs": [
    {
     "name": "stdout",
     "output_type": "stream",
     "text": [
      "[3.24470743e+05 8.55944427e+04 4.38254164e+04 2.10138892e+04\n",
      " 1.41212796e+04 6.66776215e+03 5.09166685e+03 2.59218189e+03\n",
      " 2.14330145e+03 1.99077694e+03 1.66213797e+03 1.54437376e+03\n",
      " 1.19428899e+03 1.15317824e+03 8.39913670e+02 7.77087992e+02\n",
      " 6.35420188e+02 6.21324486e+02 5.06482115e+02 4.64553669e+02\n",
      " 4.26015033e+02 3.76748114e+02 3.16651728e+02 2.85359489e+02\n",
      " 1.56742000e+02 1.47892998e+02 1.35060664e+02 1.31938322e+02\n",
      " 1.22652903e+02 1.21844528e+02 1.00577686e+02 8.77100899e+01\n",
      " 8.56284323e+01 7.93505094e+01 7.85512558e+01 7.24743930e+01\n",
      " 6.37256555e+01 6.17804271e+01 5.75657841e+01 5.64669769e+01\n",
      " 4.09189733e+01 4.02428844e+01 3.88830412e+01 3.78342540e+01\n",
      " 3.24233069e+01 3.21801145e+01 2.96079139e+01 2.79941066e+01\n",
      " 2.58129366e+01 2.36473595e+01 2.34407964e+01 2.28918533e+01\n",
      " 1.95007530e+01 1.50569305e+01 1.40442709e+01 1.01069105e+01]\n"
     ]
    }
   ],
   "source": [
    "## Check approprate rank that can be used for low rank model estimation \n",
    "## Using singular values in the svd of the data matrix \n",
    "\n",
    "_, s, _ = np.linalg.svd(rating_matrix_ini) \n",
    "print(s)"
   ]
  },
  {
   "cell_type": "code",
   "execution_count": 103,
   "metadata": {},
   "outputs": [],
   "source": [
    "RANK = 14"
   ]
  },
  {
   "cell_type": "markdown",
   "metadata": {},
   "source": [
    "Mean Imputation"
   ]
  },
  {
   "cell_type": "code",
   "execution_count": 104,
   "metadata": {},
   "outputs": [
    {
     "name": "stdout",
     "output_type": "stream",
     "text": [
      "(5111, 56)\n"
     ]
    }
   ],
   "source": [
    "## Impute missing values with column mean to begin with \n",
    "col_mean = np.nanmean(np_array, axis=0)\n",
    "inds = np.where(np.isnan(np_array))\n",
    "# np_array[inds] = np.take(col_mean, inds[1]) \n",
    "# FIX: it should be rating_matrix_ini where imputed data goes not in np_array\n",
    "rating_matrix_ini[inds] = np.take(col_mean, inds[1]) \n",
    "print(rating_matrix_ini.shape)"
   ]
  },
  {
   "cell_type": "markdown",
   "metadata": {},
   "source": [
    "Experimental Imputation"
   ]
  },
  {
   "cell_type": "code",
   "execution_count": 107,
   "metadata": {},
   "outputs": [],
   "source": [
    "# from sklearn.experimental import enable_iterative_imputer\n",
    "# from sklearn.impute import IterativeImputer, SimpleImputer, KNNImputer\n",
    "\n",
    "# imputer = IterativeImputer(random_state=36, max_iter=50)\n",
    "# imputed = imputer.fit(rating_matrix_ini)\n",
    "# rating_matrix_ini = np.round(imputed.transform(rating_matrix_ini), 4)\n",
    "\n",
    "# # imputer = KNNImputer(n_neighbors=2, weights=\"uniform\")\n",
    "# # rating_matrix_ini = imputer.fit_transform(rating_matrix_ini)\n",
    "\n",
    "# # imputer = SimpleImputer(missing_values=np.nan, strategy='mean')\n",
    "# # rating_matrix_ini = imputer.fit_transform(rating_matrix_ini)\n"
   ]
  },
  {
   "cell_type": "code",
   "execution_count": 108,
   "metadata": {},
   "outputs": [
    {
     "name": "stdout",
     "output_type": "stream",
     "text": [
      "[[ 6.90000e+01  1.00000e+00  4.00000e+00 ...  1.67000e+02  1.22600e-01\n",
      "   2.66838e+01]\n",
      " [ 5.40000e+01  1.00000e+00  3.00000e+00 ...  1.70000e+02 -2.47000e-02\n",
      "   2.86325e+01]\n",
      " [ 7.20000e+01  1.00000e+00  3.00000e+00 ...  1.26000e+02  0.00000e+00\n",
      "   2.89293e+01]\n",
      " ...\n",
      " [ 8.00000e+01  1.00000e+00  3.00000e+00 ...  1.57000e+02  8.70000e-03\n",
      "   2.48902e+01]\n",
      " [ 2.60000e+01  1.00000e+00  2.00000e+00 ...  1.90000e+02  0.00000e+00\n",
      "   2.44686e+01]\n",
      " [ 4.20000e+01  2.00000e+00  4.00000e+00 ...  1.52000e+02 -3.40000e-02\n",
      "   3.40150e+01]]\n",
      "(5111, 56)\n"
     ]
    }
   ],
   "source": [
    "# print(rating_matrix_ini)\n",
    "# print(rating_matrix_ini.shape)"
   ]
  },
  {
   "cell_type": "markdown",
   "metadata": {},
   "source": [
    "Function to achieve low rank approximation"
   ]
  },
  {
   "cell_type": "code",
   "execution_count": 97,
   "metadata": {},
   "outputs": [],
   "source": [
    "def fit_low_rank_model(rank, \n",
    "                       rating_matrix_ini, \n",
    "                       train_ind, \n",
    "                       train_data, \n",
    "                       n_iter, \n",
    "                       convergence_thresh, \n",
    "                       verbose, \n",
    "                       data1=None, \n",
    "                       missing_indices=None): \n",
    "    \n",
    "    \"\"\"Fit the low rank model. \n",
    "    Return the estimation of the low rank model - (n_movies * n_users) matrix\n",
    "\n",
    "    Keyword arguments:\n",
    "    rank -- the rank of low rank model\n",
    "    rating_matrix_ini -- imputed initialization\n",
    "    train_ind -- index of training data\n",
    "    train_data -- ratings of training set\n",
    "    n_iter -- the max number of iterations\n",
    "    convergence_thresh -- the threshold of convergence to 0\n",
    "    \"\"\"\n",
    "    \n",
    "    previous_fitting_error = 100\n",
    "    # Initialization\n",
    "    low_rank_estimate = np.zeros(rating_matrix_ini.shape) - 1 \n",
    "    # fill input data\n",
    "    low_rank_estimate.flat[train_ind] = train_data\n",
    "    # get the indexes of missing data\n",
    "    missing_inds = np.where(low_rank_estimate.flat == -1)\n",
    "    # fill missing data with imputed values\n",
    "    low_rank_estimate.flat[missing_inds] = rating_matrix_ini.flat[missing_inds]\n",
    "\n",
    "    \n",
    "    for ind in range(n_iter):\n",
    "        # Updates\n",
    "        low_rank_estimate.flat[train_ind] = train_data\n",
    "        u, s, v = np.linalg.svd(low_rank_estimate)\n",
    "        s_matrix = s  * np.eye(len(s))\n",
    "        low_rank_estimate = np.matmul(np.matmul(u[:,0:rank], s_matrix[0:rank,0:rank]), v[0:rank,:])\n",
    "        # Compute error\n",
    "        fitting_error = np.sqrt(((train_data - low_rank_estimate.flat[train_ind])**2).mean())\n",
    "        if (not (data1 == None)): \n",
    "            #true fitting error, compared to true values\n",
    "            true_fitting_error = np.sqrt(((data1.flat[missing_indices] - low_rank_estimate.flat[missing_indices])**2).mean())\n",
    "        if verbose:\n",
    "            print(\"Iteration \" + str(ind) + \" Error: \" + str(fitting_error))\n",
    "            if (not (data1 == None)): \n",
    "                print(\"Iteration \" + str(ind) + \" True Error: \" + str(true_fitting_error)) \n",
    "                print() \n",
    "        \n",
    "        # Stopping criterion\n",
    "        if (fitting_error <= convergence_thresh):\n",
    "            print('converged, breaking')\n",
    "            break\n",
    "    return low_rank_estimate, fitting_error\n",
    "\n"
   ]
  },
  {
   "cell_type": "markdown",
   "metadata": {},
   "source": [
    "Execute Low Rank Approximation Function"
   ]
  },
  {
   "cell_type": "code",
   "execution_count": 109,
   "metadata": {},
   "outputs": [
    {
     "name": "stdout",
     "output_type": "stream",
     "text": [
      "Iteration 0 Error: 1.3378585556452987\n",
      "Iteration 1 Error: 1.3323778394235657\n",
      "Iteration 2 Error: 1.3303304924597297\n",
      "Iteration 3 Error: 1.3290337855397316\n",
      "Iteration 4 Error: 1.3279673024000405\n",
      "Iteration 5 Error: 1.3270001476998807\n",
      "Iteration 6 Error: 1.3260968158183424\n",
      "Iteration 7 Error: 1.3252499516588006\n",
      "Iteration 8 Error: 1.3244603342092043\n",
      "Iteration 9 Error: 1.323729753773189\n",
      "Iteration 10 Error: 1.323058552202019\n",
      "Iteration 11 Error: 1.322445152970103\n",
      "Iteration 12 Error: 1.321886404763047\n",
      "Iteration 13 Error: 1.3213781540613017\n",
      "Iteration 14 Error: 1.3209157777286389\n",
      "Iteration 15 Error: 1.3204945821358975\n",
      "Iteration 16 Error: 1.3201100620650705\n",
      "Iteration 17 Error: 1.3197580463016059\n",
      "Iteration 18 Error: 1.3194347633383594\n",
      "Iteration 19 Error: 1.3191368559715937\n"
     ]
    }
   ],
   "source": [
    "convergence_thresh = 1e-4\n",
    "verbose = True\n",
    "train_data = np_array.flat[nonmissing_indices] \n",
    "\n",
    "n_iter = 20 \n",
    "rank = RANK \n",
    "\n",
    "\n",
    "estimate, _ = fit_low_rank_model(rank, \n",
    "                             rating_matrix_ini, \n",
    "                             nonmissing_indices, \n",
    "                             train_data, \n",
    "                             n_iter, \n",
    "                             convergence_thresh, \n",
    "                             verbose) \n",
    "\n",
    "# TEST CODE START\n",
    "# Loop to find a good rank \n",
    "# err_list = []\n",
    "# n_iter = 2\n",
    "# for i in range(1,20):\n",
    "#     rank = i \n",
    "#     _, err = fit_low_rank_model(rank, \n",
    "#                                 rating_matrix_ini, \n",
    "#                                 nonmissing_indices, \n",
    "#                                 train_data, \n",
    "#                                 n_iter, \n",
    "#                                 convergence_thresh, \n",
    "#                                 verbose) \n",
    "#     err_list.append(err)\n",
    "\n",
    "# plt.plot([i for i in range(1,20)], err_list)\n",
    "# plt.show()\n",
    "# TEST CODE END\n",
    "\n"
   ]
  },
  {
   "cell_type": "code",
   "execution_count": 110,
   "metadata": {},
   "outputs": [],
   "source": [
    "with open('lowrank_estimate.npy', 'wb') as f:\n",
    "    np.save(f, estimate)"
   ]
  }
 ],
 "metadata": {
  "interpreter": {
   "hash": "a8552ac0c6e576d0bdc3bd33ce8ce0e25ff1726c17fcf557906b98a29d09c59b"
  },
  "kernelspec": {
   "display_name": "Python 3 (ipykernel)",
   "language": "python",
   "name": "python3"
  },
  "language_info": {
   "codemirror_mode": {
    "name": "ipython",
    "version": 3
   },
   "file_extension": ".py",
   "mimetype": "text/x-python",
   "name": "python",
   "nbconvert_exporter": "python",
   "pygments_lexer": "ipython3",
   "version": "3.10.2"
  }
 },
 "nbformat": 4,
 "nbformat_minor": 4
}
