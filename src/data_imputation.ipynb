{
 "cells": [
  {
   "cell_type": "markdown",
   "metadata": {},
   "source": [
    "## Data Imputation "
   ]
  },
  {
   "cell_type": "markdown",
   "metadata": {},
   "source": [
    "## Stage 1: \n",
    "- preparing data \n",
    "- data imputation for 4 columns in the matrix "
   ]
  },
  {
   "cell_type": "code",
   "execution_count": 1,
   "metadata": {},
   "outputs": [],
   "source": [
    "import pandas as pd\n",
    "import numpy as np\n",
    "\n",
    "df = pd.read_csv('../data/data_clean.csv', sep=',', encoding='latin-1')\n",
    "df = df.drop(columns=['SEQN', 'PAQ706'])\n",
    "# print(df.head(), df.columns, df.shape)\n"
   ]
  },
  {
   "cell_type": "code",
   "execution_count": 2,
   "metadata": {},
   "outputs": [],
   "source": [
    "df = df[df.BPXSY1.notnull()]"
   ]
  },
  {
   "cell_type": "code",
   "execution_count": 3,
   "metadata": {},
   "outputs": [],
   "source": [
    "# regressing on this column \n",
    "df = df.drop(columns=['BPXSY1'])"
   ]
  },
  {
   "cell_type": "code",
   "execution_count": 4,
   "metadata": {},
   "outputs": [],
   "source": [
    "# df = df[[\"BPXPLS\", \"BMXARMC\", \"bmi\", \"highbp\" ]] # Reading 4 columns for now \n",
    "np_array = df.to_numpy(copy=True, na_value=np.nan) # Convert dataframe to numpy array "
   ]
  },
  {
   "cell_type": "markdown",
   "metadata": {},
   "source": [
    "To test our code, we will first delete values ourselves and compare output"
   ]
  },
  {
   "cell_type": "markdown",
   "metadata": {},
   "source": [
    "## Stage 1A: \n",
    "- 1) Considering data with only non missing values (delete rows with any missing values)\n",
    "- 2) Dropping values at random from this data \n",
    "- 3) Applying Low Rank Model estimation \n",
    "- 4) Evaluating the low rank estimate using true values "
   ]
  },
  {
   "cell_type": "code",
   "execution_count": 5,
   "metadata": {},
   "outputs": [
    {
     "name": "stdout",
     "output_type": "stream",
     "text": [
      "[[ 58.           1.           3.         ... 179.           0.\n",
      "   33.55912298]\n",
      " [ 57.           2.           2.         ... 235.           0.\n",
      "   28.97823892]\n",
      " [ 47.           1.           3.         ... 230.                  nan\n",
      "   33.58048532]\n",
      " ...\n",
      " [ 47.           2.           4.         ... 141.           0.\n",
      "           nan]\n",
      " [         nan   2.           4.         ... 241.           1.\n",
      "   42.86189205]\n",
      " [ 43.                  nan   4.         ... 169.           0.\n",
      "   50.0250699 ]]\n"
     ]
    }
   ],
   "source": [
    "## nonmissing_data is our ground truth, \n",
    "## MCAR stands for Missing completely at random; MCAR_data is to evaluate low rank model algorithm \n",
    "\n",
    "nonmissing_data = np_array[~np.isnan(np_array).any(axis=1), :] # delete rows with any missing values\n",
    "MCAR_missing_indices = np.random.choice( # randomly select values from length ie flat array \n",
    "    len(nonmissing_data.flatten()), \n",
    "    size=int(len(nonmissing_data.flatten())/10)) \n",
    "\n",
    "MCAR_data = nonmissing_data\n",
    "MCAR_data.flat[MCAR_missing_indices] = np.nan\n",
    "print(MCAR_data) "
   ]
  },
  {
   "cell_type": "markdown",
   "metadata": {},
   "source": [
    "## Low Rank Estimation "
   ]
  },
  {
   "cell_type": "code",
   "execution_count": 6,
   "metadata": {},
   "outputs": [],
   "source": [
    "## FIX: delete this line when no longer working with MCAR_data \n",
    "# np_array = MCAR_data \n",
    "\n",
    "## Get non-missing indices \n",
    "nonmissing_indices = np.argwhere(~np.isnan(np_array.flatten())).reshape(-1) \n",
    "\n",
    "## Create initial matrix (impute nans with zeroes) \n",
    "rating_matrix_ini = np.zeros(np_array.shape) - 1 \n",
    "rating_matrix_ini.flat[nonmissing_indices] = np_array.flat[nonmissing_indices] "
   ]
  },
  {
   "cell_type": "code",
   "execution_count": 7,
   "metadata": {},
   "outputs": [
    {
     "name": "stdout",
     "output_type": "stream",
     "text": [
      "[3.24624479e+05 8.56280630e+04 4.84166579e+04 4.29315980e+04\n",
      " 1.41209999e+04 8.56729200e+03 5.09323163e+03 2.67514353e+03\n",
      " 2.14319199e+03 1.99084400e+03 1.66307602e+03 1.57979801e+03\n",
      " 1.19670910e+03 1.15292219e+03 8.40011427e+02 7.77785156e+02\n",
      " 6.36125114e+02 6.21344575e+02 5.06515136e+02 4.68598552e+02\n",
      " 4.27068121e+02 3.76699983e+02 3.16652501e+02 2.85517793e+02\n",
      " 1.57022667e+02 1.48204131e+02 1.38011386e+02 1.32177616e+02\n",
      " 1.24163461e+02 1.21864473e+02 1.00556217e+02 8.76294065e+01\n",
      " 8.56844247e+01 7.93654509e+01 7.85326821e+01 7.28420212e+01\n",
      " 6.37270183e+01 6.17567338e+01 5.75570954e+01 5.64826668e+01\n",
      " 4.09477164e+01 4.02473642e+01 3.88869254e+01 3.79045148e+01\n",
      " 3.25519534e+01 3.21795481e+01 2.96245538e+01 2.80120425e+01\n",
      " 2.58282293e+01 2.36422223e+01 2.34419493e+01 2.28912864e+01\n",
      " 1.95005289e+01 1.51034947e+01 1.40411651e+01 1.00869849e+01]\n"
     ]
    }
   ],
   "source": [
    "## Check approprate rank that can be used for low rank model estimation \n",
    "## Using singular values in the svd of the data matrix \n",
    "\n",
    "_, s, _ = np.linalg.svd(rating_matrix_ini) \n",
    "print(s)"
   ]
  },
  {
   "cell_type": "code",
   "execution_count": 8,
   "metadata": {},
   "outputs": [],
   "source": [
    "RANK = 14 "
   ]
  },
  {
   "cell_type": "code",
   "execution_count": 9,
   "metadata": {},
   "outputs": [],
   "source": [
    "## Impute missing values with column mean to begin with \n",
    "col_mean = np.nanmean(np_array, axis=0)\n",
    "inds = np.where(np.isnan(np_array))\n",
    "np_array[inds] = np.take(col_mean, inds[1]) "
   ]
  },
  {
   "cell_type": "code",
   "execution_count": 10,
   "metadata": {},
   "outputs": [
    {
     "name": "stdout",
     "output_type": "stream",
     "text": [
      "Iteration 0 Error: 3.354633929663363\n",
      "Iteration 1 Error: 3.295053173064625\n",
      "Iteration 2 Error: 3.275290263601959\n",
      "Iteration 3 Error: 3.263980044805593\n",
      "Iteration 4 Error: 3.2558335263965095\n",
      "Iteration 5 Error: 3.2490843354052354\n",
      "Iteration 6 Error: 3.2430448606154982\n",
      "Iteration 7 Error: 3.2374216171378154\n",
      "Iteration 8 Error: 3.2320735924278745\n",
      "Iteration 9 Error: 3.226918844284466\n",
      "Iteration 10 Error: 3.2218982149201616\n",
      "Iteration 11 Error: 3.216962813375357\n",
      "Iteration 12 Error: 3.212071385142291\n",
      "Iteration 13 Error: 3.207191312928791\n",
      "Iteration 14 Error: 3.202300412790329\n",
      "Iteration 15 Error: 3.197388324252124\n",
      "Iteration 16 Error: 3.19245703222047\n",
      "Iteration 17 Error: 3.187520338076573\n",
      "Iteration 18 Error: 3.18260219083432\n",
      "Iteration 19 Error: 3.177733871752386\n",
      "Iteration 20 Error: 3.172950181775079\n",
      "Iteration 21 Error: 3.168285006840396\n",
      "Iteration 22 Error: 3.1637668559449317\n",
      "Iteration 23 Error: 3.1594150752058834\n",
      "Iteration 24 Error: 3.155237362454829\n",
      "Iteration 25 Error: 3.151228945540961\n",
      "Iteration 26 Error: 3.1473734327931946\n",
      "Iteration 27 Error: 3.1436450230394137\n",
      "Iteration 28 Error: 3.1400115729798324\n",
      "Iteration 29 Error: 3.136437988523227\n",
      "Iteration 30 Error: 3.1328894951097848\n",
      "Iteration 31 Error: 3.12933448230171\n",
      "Iteration 32 Error: 3.1257467516127586\n",
      "Iteration 33 Error: 3.1221070941333644\n",
      "Iteration 34 Error: 3.1184041843292225\n",
      "Iteration 35 Error: 3.114634812454365\n",
      "Iteration 36 Error: 3.110803506613075\n",
      "Iteration 37 Error: 3.106921626398682\n",
      "Iteration 38 Error: 3.1030060437379365\n",
      "Iteration 39 Error: 3.0990775564706485\n",
      "Iteration 40 Error: 3.095159197286179\n",
      "Iteration 41 Error: 3.091274598273033\n",
      "Iteration 42 Error: 3.087446548176764\n",
      "Iteration 43 Error: 3.0836958398677763\n",
      "Iteration 44 Error: 3.0800404577777787\n",
      "Iteration 45 Error: 3.0764951085133303\n",
      "Iteration 46 Error: 3.073071060180103\n",
      "Iteration 47 Error: 3.069776231497685\n",
      "Iteration 48 Error: 3.0666154612364855\n",
      "Iteration 49 Error: 3.0635908896774118\n",
      "Estimate = \n",
      " [[ 6.61962684e+01  1.81973668e+00  3.48616681e+00 ...  1.66796334e+02\n",
      "  -8.64531161e-02  2.89723496e+01]\n",
      " [ 5.17189879e+01  5.18385723e-01  2.66403214e+00 ...  1.69910780e+02\n",
      "   5.79272884e-02  3.00620125e+01]\n",
      " [ 7.41686508e+01  1.63052759e+00  3.64700243e+00 ...  1.26246504e+02\n",
      "  -2.34994229e-01  2.91360860e+01]\n",
      " ...\n",
      " [ 8.06312798e+01  1.31348998e+00  3.06616356e+00 ...  1.57091072e+02\n",
      "  -7.62942989e-03  2.41935927e+01]\n",
      " [ 2.74708626e+01  1.12260574e+00  2.86345915e+00 ...  1.90327529e+02\n",
      "   1.52103200e-01  2.38274392e+01]\n",
      " [ 4.26737626e+01  1.54681881e+00  3.56502306e+00 ...  1.51892120e+02\n",
      "  -8.94782855e-02  3.05768693e+01]]\n"
     ]
    }
   ],
   "source": [
    "def fit_low_rank_model(rank, \n",
    "                       rating_matrix_ini, \n",
    "                       train_ind, \n",
    "                       train_data, \n",
    "                       n_iter, \n",
    "                       convergence_thresh, \n",
    "                       verbose, \n",
    "                       data1=None, \n",
    "                       missing_indices=None): \n",
    "    \n",
    "    \"\"\"Fit the low rank model. \n",
    "    Return the estimation of the low rank model - (n_movies * n_users) matrix\n",
    "\n",
    "    Keyword arguments:\n",
    "    rank -- the rank of low rank model\n",
    "    rating_matrix_ini -- imputed initialization\n",
    "    train_ind -- index of training data\n",
    "    train_data -- ratings of training set\n",
    "    n_iter -- the max number of iterations\n",
    "    convergence_thresh -- the threshold of convergence to 0\n",
    "    \"\"\"\n",
    "    \n",
    "    previous_fitting_error = 100\n",
    "    # Initialization\n",
    "    low_rank_estimate = np.zeros(rating_matrix_ini.shape) - 1 \n",
    "    # fill input data\n",
    "    low_rank_estimate.flat[train_ind] = train_data\n",
    "    # get the indexes of missing data\n",
    "    missing_inds = np.where(low_rank_estimate.flat == -1)\n",
    "    # fill missing data with imputed values\n",
    "    low_rank_estimate.flat[missing_inds] = rating_matrix_ini.flat[missing_inds]\n",
    "\n",
    "    \n",
    "    for ind in range(n_iter):\n",
    "        # Updates\n",
    "        low_rank_estimate.flat[train_ind] = train_data\n",
    "        u, s, v = np.linalg.svd(low_rank_estimate)\n",
    "        s_matrix = s  * np.eye(len(s))\n",
    "        low_rank_estimate = np.matmul(np.matmul(u[:,0:rank], s_matrix[0:rank,0:rank]), v[0:rank,:])\n",
    "        # Compute error\n",
    "        fitting_error = np.sqrt(((train_data - low_rank_estimate.flat[train_ind])**2).mean())\n",
    "        if (not (data1 == None)): \n",
    "            #true fitting error, compared to true values\n",
    "            true_fitting_error = np.sqrt(((data1.flat[missing_indices] - low_rank_estimate.flat[missing_indices])**2).mean())\n",
    "        if verbose:\n",
    "            print(\"Iteration \" + str(ind) + \" Error: \" + str(fitting_error))\n",
    "            if (not (data1 == None)): \n",
    "                print(\"Iteration \" + str(ind) + \" True Error: \" + str(true_fitting_error)) \n",
    "                print() \n",
    "        \n",
    "        # Stopping criterion\n",
    "        if (fitting_error <= convergence_thresh):\n",
    "            print('converged, breaking')\n",
    "            break\n",
    "    return low_rank_estimate\n",
    "\n",
    "n_iter = 50 \n",
    "convergence_thresh = 1e-4\n",
    "verbose = True\n",
    "rank = RANK \n",
    "train_data = np_array.flat[nonmissing_indices] \n",
    "# estimate =fit_low_rank_model(rank,rating_matrix_ini,nonmissing_indices,\n",
    "#         train_data,n_iter,convergence_thresh,verbose, nonmissing_data, MCAR_missing_indices)\n",
    "\n",
    "estimate = fit_low_rank_model(rank, \n",
    "                             rating_matrix_ini, \n",
    "                             nonmissing_indices, \n",
    "                             train_data, \n",
    "                             n_iter, \n",
    "                             convergence_thresh, \n",
    "                             verbose) \n",
    "\n",
    "print(\"Estimate = \\n\", estimate)\n",
    "\n"
   ]
  },
  {
   "cell_type": "code",
   "execution_count": 11,
   "metadata": {},
   "outputs": [
    {
     "data": {
      "text/plain": [
       "array([[ 6.61962684e+01,  1.81973668e+00,  3.48616681e+00, ...,\n",
       "         1.66796334e+02, -8.64531161e-02,  2.89723496e+01],\n",
       "       [ 5.17189879e+01,  5.18385723e-01,  2.66403214e+00, ...,\n",
       "         1.69910780e+02,  5.79272884e-02,  3.00620125e+01],\n",
       "       [ 7.41686508e+01,  1.63052759e+00,  3.64700243e+00, ...,\n",
       "         1.26246504e+02, -2.34994229e-01,  2.91360860e+01],\n",
       "       ...,\n",
       "       [ 8.06312798e+01,  1.31348998e+00,  3.06616356e+00, ...,\n",
       "         1.57091072e+02, -7.62942989e-03,  2.41935927e+01],\n",
       "       [ 2.74708626e+01,  1.12260574e+00,  2.86345915e+00, ...,\n",
       "         1.90327529e+02,  1.52103200e-01,  2.38274392e+01],\n",
       "       [ 4.26737626e+01,  1.54681881e+00,  3.56502306e+00, ...,\n",
       "         1.51892120e+02, -8.94782855e-02,  3.05768693e+01]])"
      ]
     },
     "execution_count": 11,
     "metadata": {},
     "output_type": "execute_result"
    }
   ],
   "source": [
    "estimate "
   ]
  },
  {
   "cell_type": "code",
   "execution_count": 12,
   "metadata": {},
   "outputs": [],
   "source": [
    "with open('lowrank_estimate.npy', 'wb') as f:\n",
    "    np.save(f, estimate)"
   ]
  },
  {
   "cell_type": "code",
   "execution_count": null,
   "metadata": {},
   "outputs": [],
   "source": []
  }
 ],
 "metadata": {
  "interpreter": {
   "hash": "a8552ac0c6e576d0bdc3bd33ce8ce0e25ff1726c17fcf557906b98a29d09c59b"
  },
  "kernelspec": {
   "display_name": "Python 3 (ipykernel)",
   "language": "python",
   "name": "python3"
  },
  "language_info": {
   "codemirror_mode": {
    "name": "ipython",
    "version": 3
   },
   "file_extension": ".py",
   "mimetype": "text/x-python",
   "name": "python",
   "nbconvert_exporter": "python",
   "pygments_lexer": "ipython3",
   "version": "3.8.9"
  }
 },
 "nbformat": 4,
 "nbformat_minor": 4
}
