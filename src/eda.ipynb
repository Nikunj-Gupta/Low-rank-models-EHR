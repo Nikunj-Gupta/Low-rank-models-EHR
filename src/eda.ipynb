{
 "cells": [
  {
   "cell_type": "code",
   "execution_count": 1,
   "metadata": {},
   "outputs": [],
   "source": [
    "import pandas as pd \n",
    "from scipy import stats \n",
    "import numpy as np \n",
    "import seaborn as sns \n",
    "import matplotlib.pyplot as plt "
   ]
  },
  {
   "cell_type": "code",
   "execution_count": 2,
   "metadata": {},
   "outputs": [
    {
     "data": {
      "text/html": [
       "<div>\n",
       "<style scoped>\n",
       "    .dataframe tbody tr th:only-of-type {\n",
       "        vertical-align: middle;\n",
       "    }\n",
       "\n",
       "    .dataframe tbody tr th {\n",
       "        vertical-align: top;\n",
       "    }\n",
       "\n",
       "    .dataframe thead th {\n",
       "        text-align: right;\n",
       "    }\n",
       "</style>\n",
       "<table border=\"1\" class=\"dataframe\">\n",
       "  <thead>\n",
       "    <tr style=\"text-align: right;\">\n",
       "      <th></th>\n",
       "      <th>SEQN</th>\n",
       "      <th>RIDAGEYR</th>\n",
       "      <th>RIAGENDR</th>\n",
       "      <th>RIDRETH1</th>\n",
       "      <th>RIDRETH3</th>\n",
       "      <th>DMDCITZN</th>\n",
       "      <th>DMDEDUC2</th>\n",
       "      <th>MIALANG</th>\n",
       "      <th>DMDHHSIZ</th>\n",
       "      <th>INDHHIN2</th>\n",
       "      <th>...</th>\n",
       "      <th>HIQ011</th>\n",
       "      <th>PAQ635</th>\n",
       "      <th>PAQ650</th>\n",
       "      <th>PAQ665</th>\n",
       "      <th>PAD680</th>\n",
       "      <th>PAQ706</th>\n",
       "      <th>PAQ710</th>\n",
       "      <th>LBXTC</th>\n",
       "      <th>highLDL</th>\n",
       "      <th>bmi</th>\n",
       "    </tr>\n",
       "  </thead>\n",
       "  <tbody>\n",
       "    <tr>\n",
       "      <th>0</th>\n",
       "      <td>73557</td>\n",
       "      <td>69</td>\n",
       "      <td>1</td>\n",
       "      <td>4</td>\n",
       "      <td>4</td>\n",
       "      <td>1.0</td>\n",
       "      <td>3.0</td>\n",
       "      <td>1.0</td>\n",
       "      <td>3</td>\n",
       "      <td>4.0</td>\n",
       "      <td>...</td>\n",
       "      <td>1.0</td>\n",
       "      <td>2</td>\n",
       "      <td>2</td>\n",
       "      <td>2</td>\n",
       "      <td>600.0</td>\n",
       "      <td>NaN</td>\n",
       "      <td>2.0</td>\n",
       "      <td>167.0</td>\n",
       "      <td>NaN</td>\n",
       "      <td>26.683761</td>\n",
       "    </tr>\n",
       "    <tr>\n",
       "      <th>1</th>\n",
       "      <td>73558</td>\n",
       "      <td>54</td>\n",
       "      <td>1</td>\n",
       "      <td>3</td>\n",
       "      <td>3</td>\n",
       "      <td>1.0</td>\n",
       "      <td>3.0</td>\n",
       "      <td>1.0</td>\n",
       "      <td>4</td>\n",
       "      <td>7.0</td>\n",
       "      <td>...</td>\n",
       "      <td>2.0</td>\n",
       "      <td>2</td>\n",
       "      <td>2</td>\n",
       "      <td>2</td>\n",
       "      <td>540.0</td>\n",
       "      <td>NaN</td>\n",
       "      <td>4.0</td>\n",
       "      <td>170.0</td>\n",
       "      <td>NaN</td>\n",
       "      <td>28.632450</td>\n",
       "    </tr>\n",
       "    <tr>\n",
       "      <th>2</th>\n",
       "      <td>73559</td>\n",
       "      <td>72</td>\n",
       "      <td>1</td>\n",
       "      <td>3</td>\n",
       "      <td>3</td>\n",
       "      <td>1.0</td>\n",
       "      <td>4.0</td>\n",
       "      <td>1.0</td>\n",
       "      <td>2</td>\n",
       "      <td>10.0</td>\n",
       "      <td>...</td>\n",
       "      <td>1.0</td>\n",
       "      <td>2</td>\n",
       "      <td>2</td>\n",
       "      <td>1</td>\n",
       "      <td>300.0</td>\n",
       "      <td>NaN</td>\n",
       "      <td>4.0</td>\n",
       "      <td>126.0</td>\n",
       "      <td>0.0</td>\n",
       "      <td>28.929300</td>\n",
       "    </tr>\n",
       "    <tr>\n",
       "      <th>3</th>\n",
       "      <td>73561</td>\n",
       "      <td>73</td>\n",
       "      <td>2</td>\n",
       "      <td>3</td>\n",
       "      <td>3</td>\n",
       "      <td>1.0</td>\n",
       "      <td>5.0</td>\n",
       "      <td>1.0</td>\n",
       "      <td>2</td>\n",
       "      <td>15.0</td>\n",
       "      <td>...</td>\n",
       "      <td>1.0</td>\n",
       "      <td>2</td>\n",
       "      <td>2</td>\n",
       "      <td>2</td>\n",
       "      <td>480.0</td>\n",
       "      <td>NaN</td>\n",
       "      <td>1.0</td>\n",
       "      <td>201.0</td>\n",
       "      <td>0.0</td>\n",
       "      <td>19.716567</td>\n",
       "    </tr>\n",
       "    <tr>\n",
       "      <th>4</th>\n",
       "      <td>73562</td>\n",
       "      <td>56</td>\n",
       "      <td>1</td>\n",
       "      <td>1</td>\n",
       "      <td>1</td>\n",
       "      <td>1.0</td>\n",
       "      <td>4.0</td>\n",
       "      <td>1.0</td>\n",
       "      <td>1</td>\n",
       "      <td>9.0</td>\n",
       "      <td>...</td>\n",
       "      <td>1.0</td>\n",
       "      <td>2</td>\n",
       "      <td>2</td>\n",
       "      <td>2</td>\n",
       "      <td>360.0</td>\n",
       "      <td>NaN</td>\n",
       "      <td>5.0</td>\n",
       "      <td>226.0</td>\n",
       "      <td>NaN</td>\n",
       "      <td>41.690341</td>\n",
       "    </tr>\n",
       "  </tbody>\n",
       "</table>\n",
       "<p>5 rows × 59 columns</p>\n",
       "</div>"
      ],
      "text/plain": [
       "    SEQN  RIDAGEYR  RIAGENDR  RIDRETH1  RIDRETH3  DMDCITZN  DMDEDUC2  MIALANG  \\\n",
       "0  73557        69         1         4         4       1.0       3.0      1.0   \n",
       "1  73558        54         1         3         3       1.0       3.0      1.0   \n",
       "2  73559        72         1         3         3       1.0       4.0      1.0   \n",
       "3  73561        73         2         3         3       1.0       5.0      1.0   \n",
       "4  73562        56         1         1         1       1.0       4.0      1.0   \n",
       "\n",
       "   DMDHHSIZ  INDHHIN2  ...  HIQ011  PAQ635  PAQ650  PAQ665  PAD680  PAQ706  \\\n",
       "0         3       4.0  ...     1.0       2       2       2   600.0     NaN   \n",
       "1         4       7.0  ...     2.0       2       2       2   540.0     NaN   \n",
       "2         2      10.0  ...     1.0       2       2       1   300.0     NaN   \n",
       "3         2      15.0  ...     1.0       2       2       2   480.0     NaN   \n",
       "4         1       9.0  ...     1.0       2       2       2   360.0     NaN   \n",
       "\n",
       "   PAQ710  LBXTC  highLDL        bmi  \n",
       "0     2.0  167.0      NaN  26.683761  \n",
       "1     4.0  170.0      NaN  28.632450  \n",
       "2     4.0  126.0      0.0  28.929300  \n",
       "3     1.0  201.0      0.0  19.716567  \n",
       "4     5.0  226.0      NaN  41.690341  \n",
       "\n",
       "[5 rows x 59 columns]"
      ]
     },
     "execution_count": 2,
     "metadata": {},
     "output_type": "execute_result"
    }
   ],
   "source": [
    "df = pd.read_csv('../data/data_clean.csv') \n",
    "# df = pd.read_sas('data/demographics.xpt', format='xport', index=None, encoding='ISO-8859-1', chunksize=None, iterator=False)\n",
    "df.head()"
   ]
  },
  {
   "cell_type": "code",
   "execution_count": null,
   "metadata": {},
   "outputs": [],
   "source": [
    "df.columns "
   ]
  },
  {
   "cell_type": "code",
   "execution_count": 11,
   "metadata": {},
   "outputs": [
    {
     "data": {
      "text/plain": [
       "(5769, 58)"
      ]
     },
     "execution_count": 11,
     "metadata": {},
     "output_type": "execute_result"
    }
   ],
   "source": [
    "df.shape"
   ]
  },
  {
   "cell_type": "code",
   "execution_count": null,
   "metadata": {},
   "outputs": [],
   "source": [
    "df.describe()"
   ]
  },
  {
   "cell_type": "code",
   "execution_count": 3,
   "metadata": {},
   "outputs": [
    {
     "data": {
      "text/plain": [
       "SEQN           0\n",
       "RIDAGEYR       0\n",
       "RIAGENDR       0\n",
       "RIDRETH1       0\n",
       "RIDRETH3       0\n",
       "DMDCITZN      10\n",
       "DMDEDUC2       7\n",
       "MIALANG      623\n",
       "DMDHHSIZ       0\n",
       "INDHHIN2     276\n",
       "INDFMIN2     265\n",
       "INDFMPIR     455\n",
       "BMXLEG       504\n",
       "BMXARML      444\n",
       "BMXARMC      441\n",
       "BMXWAIST     499\n",
       "BMDAVSAD     670\n",
       "BPXPLS       365\n",
       "BPXPULS      364\n",
       "BPXSY1       658\n",
       "BPXDI1       658\n",
       "CDQ001      1954\n",
       "CDQ010      1954\n",
       "DIQ010         0\n",
       "DIQ160       896\n",
       "DIQ170       722\n",
       "DIQ172       722\n",
       "DIQ180       722\n",
       "DIQ050         1\n",
       "DIQ070      4611\n",
       "DBQ095Z      683\n",
       "DBD100      2252\n",
       "DRQSPREP     683\n",
       "DR1STY       683\n",
       "DRQSDIET     683\n",
       "DR1TKCAL     722\n",
       "DR1TPROT     722\n",
       "DR1TCARB     722\n",
       "DR1TSUGR     722\n",
       "DR1TFIBE     722\n",
       "DR1TTFAT     722\n",
       "DR1TSFAT     722\n",
       "DR1TMFAT     722\n",
       "DR1TPFAT     722\n",
       "DR1TCHOL     722\n",
       "DR1TSODI     722\n",
       "DR1TALCO     722\n",
       "DR1_320Z     722\n",
       "LBDHDD       427\n",
       "HIQ011         0\n",
       "PAQ635         0\n",
       "PAQ650         0\n",
       "PAQ665         0\n",
       "PAD680        26\n",
       "PAQ706      5769\n",
       "PAQ710         3\n",
       "LBXTC        427\n",
       "highLDL     3256\n",
       "bmi          249\n",
       "dtype: int64"
      ]
     },
     "execution_count": 3,
     "metadata": {},
     "output_type": "execute_result"
    }
   ],
   "source": [
    "# Number of NaN in each feature \n",
    "df.isnull().sum()"
   ]
  },
  {
   "cell_type": "code",
   "execution_count": 4,
   "metadata": {},
   "outputs": [
    {
     "data": {
      "text/plain": [
       "0        6\n",
       "1        6\n",
       "2        5\n",
       "3        5\n",
       "4        3\n",
       "        ..\n",
       "5764     8\n",
       "5765     4\n",
       "5766    28\n",
       "5767     7\n",
       "5768     5\n",
       "Length: 5769, dtype: int64"
      ]
     },
     "execution_count": 4,
     "metadata": {},
     "output_type": "execute_result"
    }
   ],
   "source": [
    "# Number of NaN in each data point (person) \n",
    "df.T.isnull().sum() "
   ]
  },
  {
   "cell_type": "code",
   "execution_count": null,
   "metadata": {},
   "outputs": [],
   "source": [
    "df.info()"
   ]
  },
  {
   "cell_type": "code",
   "execution_count": 5,
   "metadata": {},
   "outputs": [
    {
     "name": "stdout",
     "output_type": "stream",
     "text": [
      "SEQN \t Number of Unique elements =  5769\n",
      "RIDAGEYR \t Number of Unique elements =  61\n",
      "RIAGENDR \t Number of Unique elements =  2\n",
      "RIDRETH1 \t Number of Unique elements =  5\n",
      "RIDRETH3 \t Number of Unique elements =  6\n",
      "DMDCITZN \t Number of Unique elements =  2\n",
      "DMDEDUC2 \t Number of Unique elements =  5\n",
      "MIALANG \t Number of Unique elements =  2\n",
      "DMDHHSIZ \t Number of Unique elements =  7\n",
      "INDHHIN2 \t Number of Unique elements =  14\n",
      "INDFMIN2 \t Number of Unique elements =  14\n",
      "INDFMPIR \t Number of Unique elements =  422\n",
      "BMXLEG \t Number of Unique elements =  229\n",
      "BMXARML \t Number of Unique elements =  170\n",
      "BMXARMC \t Number of Unique elements =  313\n",
      "BMXWAIST \t Number of Unique elements =  801\n",
      "BMDAVSAD \t Number of Unique elements =  240\n",
      "BPXPLS \t Number of Unique elements =  44\n",
      "BPXPULS \t Number of Unique elements =  2\n",
      "BPXSY1 \t Number of Unique elements =  68\n",
      "BPXDI1 \t Number of Unique elements =  52\n",
      "CDQ001 \t Number of Unique elements =  3\n",
      "CDQ010 \t Number of Unique elements =  4\n",
      "DIQ010 \t Number of Unique elements =  4\n",
      "DIQ160 \t Number of Unique elements =  3\n",
      "DIQ170 \t Number of Unique elements =  3\n",
      "DIQ172 \t Number of Unique elements =  3\n",
      "DIQ180 \t Number of Unique elements =  3\n",
      "DIQ050 \t Number of Unique elements =  3\n",
      "DIQ070 \t Number of Unique elements =  3\n",
      "DBQ095Z \t Number of Unique elements =  5\n",
      "DBD100 \t Number of Unique elements =  4\n",
      "DRQSPREP \t Number of Unique elements =  5\n",
      "DR1STY \t Number of Unique elements =  3\n",
      "DRQSDIET \t Number of Unique elements =  3\n",
      "DR1TKCAL \t Number of Unique elements =  2565\n",
      "DR1TPROT \t Number of Unique elements =  4536\n",
      "DR1TCARB \t Number of Unique elements =  4859\n",
      "DR1TSUGR \t Number of Unique elements =  4712\n",
      "DR1TFIBE \t Number of Unique elements =  927\n",
      "DR1TTFAT \t Number of Unique elements =  4533\n",
      "DR1TSFAT \t Number of Unique elements =  4897\n",
      "DR1TMFAT \t Number of Unique elements =  4909\n",
      "DR1TPFAT \t Number of Unique elements =  4846\n",
      "DR1TCHOL \t Number of Unique elements =  929\n",
      "DR1TSODI \t Number of Unique elements =  3346\n",
      "DR1TALCO \t Number of Unique elements =  408\n",
      "DR1_320Z \t Number of Unique elements =  672\n",
      "LBDHDD \t Number of Unique elements =  114\n",
      "HIQ011 \t Number of Unique elements =  4\n",
      "PAQ635 \t Number of Unique elements =  2\n",
      "PAQ650 \t Number of Unique elements =  2\n",
      "PAQ665 \t Number of Unique elements =  2\n",
      "PAD680 \t Number of Unique elements =  32\n",
      "PAQ706 \t Number of Unique elements =  0\n",
      "PAQ710 \t Number of Unique elements =  7\n",
      "LBXTC \t Number of Unique elements =  249\n",
      "highLDL \t Number of Unique elements =  2\n",
      "bmi \t Number of Unique elements =  5459\n"
     ]
    }
   ],
   "source": [
    "for col in df.columns: \n",
    "    print(col, '\\t Number of Unique elements = ', df[col].nunique()) \n",
    "#     print(df[col].unique()) \n",
    "#     print() "
   ]
  },
  {
   "cell_type": "code",
   "execution_count": null,
   "metadata": {},
   "outputs": [],
   "source": []
  },
  {
   "cell_type": "code",
   "execution_count": null,
   "metadata": {},
   "outputs": [],
   "source": []
  },
  {
   "cell_type": "code",
   "execution_count": null,
   "metadata": {},
   "outputs": [],
   "source": [
    "# stats.zscore(df, nan_policy='omit').describe()\n",
    "# df[(np.abs(stats.zscore(df, nan_policy='omit')) < 3).all(axis=1)]"
   ]
  },
  {
   "cell_type": "markdown",
   "metadata": {},
   "source": [
    "Final plots for Results: data exploration section"
   ]
  },
  {
   "cell_type": "code",
   "execution_count": 9,
   "metadata": {},
   "outputs": [],
   "source": [
    "df = df.drop(columns=['PAQ706'])\n",
    "\n",
    "#variable choice to create dataset for missignness simulation\n",
    "df_nonmiss = df[['RIDAGEYR', 'RIAGENDR', 'RIDRETH1', 'RIDRETH3',\n",
    "                 'DMDCITZN', 'DMDEDUC2', 'BMXLEG', 'BPXPULS',\n",
    "                 'DIQ010', 'DIQ050', 'HIQ011', 'PAQ635', \n",
    "                 'PAQ650', 'PAQ665','PAD680', 'PAQ710', 'DR1TKCAL']]\n",
    "df_nonmiss = df_nonmiss.dropna()"
   ]
  },
  {
   "cell_type": "code",
   "execution_count": 5,
   "metadata": {},
   "outputs": [
    {
     "data": {
      "image/png": "[encoded data removed]",
      "text/plain": [
       "<Figure size 1440x720 with 1 Axes>"
      ]
     },
     "metadata": {
      "needs_background": "light"
     },
     "output_type": "display_data"
    }
   ],
   "source": [
    "plt.figure(figsize=(20,10))\n",
    "sns.heatmap(df.isnull(),cbar=False,cmap='viridis') \n",
    "\n",
    "plt.savefig('missing_values.png')\n",
    "\n"
   ]
  },
  {
   "cell_type": "code",
   "execution_count": null,
   "metadata": {},
   "outputs": [],
   "source": [
    "# # Test for filling null values with means of columns \n",
    "# for col in df.columns: \n",
    "#     df[col].fillna(df[col].mean(), inplace=True)"
   ]
  },
  {
   "cell_type": "code",
   "execution_count": 7,
   "metadata": {},
   "outputs": [],
   "source": [
    "# Whole dataset\n",
    "plt.figure(figsize=(50,50))\n",
    "correlation_df = df.corr(method='pearson') \n",
    "correlation_df = df.corr() \n",
    "correlation_df.style.background_gradient(cmap='coolwarm', axis=None).set_precision(2) \n",
    "# print(correlation_df.shape) \n",
    "# print(correlation_df.head()) \n",
    "sns.heatmap(correlation_df,cbar=True,annot=True,cmap='coolwarm') \n",
    "#correlation_df.savefig(\"correlation.png\")\n",
    "#plt.savefig('plots/correlation.png')\n",
    "plt.savefig('correlation.png')\n",
    "plt.close() "
   ]
  },
  {
   "cell_type": "code",
   "execution_count": 10,
   "metadata": {},
   "outputs": [],
   "source": [
    "# Missing Data Analysis Subsample\n",
    "plt.figure(figsize=(50,50))\n",
    "nonmisscorrelation_df = df_nonmiss.corr(method='pearson') \n",
    "nonmisscorrelation_df = df_nonmiss.corr() \n",
    "nonmisscorrelation_df.style.background_gradient(cmap='coolwarm', axis=None).set_precision(2) \n",
    "# print(correlation_df.shape) \n",
    "# print(correlation_df.head()) \n",
    "sns.heatmap(nonmisscorrelation_df,cbar=True,annot=True,cmap='coolwarm') \n",
    "#correlation_df.savefig(\"correlation.png\")\n",
    "#plt.savefig('plots/correlation.png')\n",
    "plt.savefig('nonmisscorrelation.png')\n",
    "plt.close() "
   ]
  },
  {
   "cell_type": "code",
   "execution_count": null,
   "metadata": {},
   "outputs": [],
   "source": [
    "# for cut in range(0,47,10):\n",
    "#     plt.figure(figsize=(10,10))\n",
    "\n",
    "#     correlation_df = df[df.columns[cut:cut+10]].corr() \n",
    "# #     print(correlation_df.shape) \n",
    "# #     print(correlation_df.head()) \n",
    "#     sns.heatmap(correlation_df,cbar=True,annot=True,cmap='Blues') \n",
    "    \n",
    "#     plt.show() "
   ]
  },
  {
   "cell_type": "code",
   "execution_count": null,
   "metadata": {},
   "outputs": [],
   "source": []
  },
  {
   "cell_type": "code",
   "execution_count": null,
   "metadata": {},
   "outputs": [],
   "source": [
    "for col in df.columns: \n",
    "    print(col)\n",
    "    fig, ax = plt.subplots()\n",
    "    df.hist(col, ax=ax)\n",
    "    fig.savefig('plots/distributions/'+col+'.png') \n",
    "    plt.close() "
   ]
  },
  {
   "cell_type": "code",
   "execution_count": null,
   "metadata": {},
   "outputs": [],
   "source": [
    "# from pandas.plotting import scatter_matrix\n",
    "\n",
    "# pd.scatter_matrix(df, alpha = 0.3, figsize = (14,8), diagonal = 'kde');\n"
   ]
  },
  {
   "cell_type": "code",
   "execution_count": null,
   "metadata": {},
   "outputs": [],
   "source": [
    "for col1 in df.columns: \n",
    "    for col2 in df.columns: \n",
    "            if col1 != col2: \n",
    "                fig, ax = plt.subplots()\n",
    "                df.plot.scatter(x=col1, y=col2, c='DarkBlue', ax=ax) \n",
    "                fig.savefig('plots/pattern_2d/'+ col1 + '_' + col2 + '.png') \n",
    "                plt.close() "
   ]
  },
  {
   "cell_type": "code",
   "execution_count": null,
   "metadata": {},
   "outputs": [],
   "source": [
    "from matplotlib import cm\n",
    "for col1 in df.columns: \n",
    "    for col2 in df.columns: \n",
    "        for col3 in df.columns: \n",
    "            if col1 != col2 and col2 != col3 and col1 != col3: \n",
    "                fig, ax = plt.subplots()\n",
    "                df.plot.scatter(x=col1, y=col2, c=col3, cmap=cm.get_cmap('Spectral'), ax=ax) \n",
    "                fig.savefig('plots/pattern_3d/'+ col1 + '_' + col2 + '_' + col3 + '.png') \n",
    "                plt.close() "
   ]
  },
  {
   "cell_type": "code",
   "execution_count": null,
   "metadata": {
    "scrolled": true
   },
   "outputs": [],
   "source": [
    "df.plot.scatter(x='BMXWT', y='BMXHT', c='BMXWAIST') "
   ]
  },
  {
   "cell_type": "code",
   "execution_count": null,
   "metadata": {},
   "outputs": [],
   "source": []
  }
 ],
 "metadata": {
  "kernelspec": {
   "display_name": "Python 3",
   "language": "python",
   "name": "python3"
  },
  "language_info": {
   "codemirror_mode": {
    "name": "ipython",
    "version": 3
   },
   "file_extension": ".py",
   "mimetype": "text/x-python",
   "name": "python",
   "nbconvert_exporter": "python",
   "pygments_lexer": "ipython3",
   "version": "3.8.5"
  }
 },
 "nbformat": 4,
 "nbformat_minor": 5
}
