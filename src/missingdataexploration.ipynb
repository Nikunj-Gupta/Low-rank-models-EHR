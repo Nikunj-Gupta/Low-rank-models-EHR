{
 "cells": [
  {
   "cell_type": "markdown",
   "metadata": {},
   "source": [
    "# Missing Data Exploration"
   ]
  },
  {
   "cell_type": "markdown",
   "metadata": {},
   "source": [
    "## Step 1: Load dataset and examine"
   ]
  },
  {
   "cell_type": "code",
   "execution_count": 1,
   "metadata": {},
   "outputs": [],
   "source": [
    "import pandas as pd\n",
    "import numpy as np\n",
    "from scipy.stats import chi2_contingency\n",
    "df = pd.read_csv('../data/data_clean.csv', sep=',', encoding='latin-1')\n",
    "# print(df.head(), df.columns, df.shape)"
   ]
  },
  {
   "cell_type": "code",
   "execution_count": null,
   "metadata": {},
   "outputs": [],
   "source": [
    "df.describe()"
   ]
  },
  {
   "cell_type": "markdown",
   "metadata": {},
   "source": [
    "Remove PAQ706, since all values missing. Examine missingness of variables in each columns. Remove columns CDQ001, CDQ010, DIQ070, DBD100, highLDL since >1000 missing values"
   ]
  },
  {
   "cell_type": "code",
   "execution_count": 2,
   "metadata": {},
   "outputs": [],
   "source": [
    "df = df.drop(columns=['PAQ706'])\n",
    "\n",
    "df = df.drop(columns = ['CDQ001', 'CDQ010', 'DIQ070', 'DBD100', 'highLDL'])"
   ]
  },
  {
   "cell_type": "code",
   "execution_count": null,
   "metadata": {},
   "outputs": [],
   "source": [
    "df.isna().sum()"
   ]
  },
  {
   "cell_type": "markdown",
   "metadata": {},
   "source": [
    "Missingness of diet information. If DR1TKCAL is missing, are all other diet variables missing as well? Yes. But not the same rows as missing DIQ170 data."
   ]
  },
  {
   "cell_type": "code",
   "execution_count": 3,
   "metadata": {},
   "outputs": [
    {
     "data": {
      "text/plain": [
       "SEQN          0\n",
       "RIDAGEYR      0\n",
       "RIAGENDR      0\n",
       "RIDRETH1      0\n",
       "RIDRETH3      0\n",
       "DMDCITZN     10\n",
       "DMDEDUC2      3\n",
       "MIALANG     206\n",
       "DMDHHSIZ      0\n",
       "INDHHIN2    217\n",
       "INDFMIN2    207\n",
       "INDFMPIR    361\n",
       "BMXLEG      170\n",
       "BMXARML     123\n",
       "BMXARMC     120\n",
       "BMXWAIST    165\n",
       "BMDAVSAD    315\n",
       "BPXPLS      106\n",
       "BPXPULS     105\n",
       "BPXSY1      364\n",
       "BPXDI1      364\n",
       "DIQ010        0\n",
       "DIQ160      788\n",
       "DIQ170      630\n",
       "DIQ172      630\n",
       "DIQ180      630\n",
       "DIQ050        1\n",
       "DBQ095Z       0\n",
       "DRQSPREP      0\n",
       "DR1STY        0\n",
       "DRQSDIET      0\n",
       "DR1TKCAL      0\n",
       "DR1TPROT      0\n",
       "DR1TCARB      0\n",
       "DR1TSUGR      0\n",
       "DR1TFIBE      0\n",
       "DR1TTFAT      0\n",
       "DR1TSFAT      0\n",
       "DR1TMFAT      0\n",
       "DR1TPFAT      0\n",
       "DR1TCHOL      0\n",
       "DR1TSODI      0\n",
       "DR1TALCO      0\n",
       "DR1_320Z      0\n",
       "LBDHDD      182\n",
       "HIQ011        0\n",
       "PAQ635        0\n",
       "PAQ650        0\n",
       "PAQ665        0\n",
       "PAD680       22\n",
       "PAQ710        1\n",
       "LBXTC       182\n",
       "bmi          37\n",
       "dtype: int64"
      ]
     },
     "execution_count": 3,
     "metadata": {},
     "output_type": "execute_result"
    }
   ],
   "source": [
    "df_temp = df[df.DR1TKCAL.notnull()]\n",
    "df_temp.isna().sum()"
   ]
  },
  {
   "cell_type": "markdown",
   "metadata": {},
   "source": [
    "Examine missingness of diet information related to other columns. Is it MCAR?"
   ]
  },
  {
   "cell_type": "code",
   "execution_count": null,
   "metadata": {},
   "outputs": [],
   "source": [
    "# Initialize the missing diet columns\n",
    "df[\"diet_missing\"] = df[\"DR1TKCAL\"]\n",
    "# The column is false\n",
    "df[\"diet_missing\"] = False\n",
    "# Replace where Height_missing with True where Height is missing\n",
    "df.loc[df[df['DR1TKCAL'].isnull()].index, \"diet_missing\"] = True"
   ]
  },
  {
   "cell_type": "markdown",
   "metadata": {},
   "source": [
    "Is missing diet information related to health insurance status?"
   ]
  },
  {
   "cell_type": "code",
   "execution_count": null,
   "metadata": {},
   "outputs": [],
   "source": [
    "df[df[\"diet_missing\"]==True].groupby(\"HIQ011\")[\"diet_missing\"].count()\n"
   ]
  },
  {
   "cell_type": "code",
   "execution_count": null,
   "metadata": {},
   "outputs": [],
   "source": [
    "df[df[\"diet_missing\"]==False].groupby(\"HIQ011\")[\"diet_missing\"].count()"
   ]
  },
  {
   "cell_type": "code",
   "execution_count": null,
   "metadata": {},
   "outputs": [],
   "source": [
    "#create cont. table\n",
    "diet_HI_table = [[567, 154],[3976,1066]]\n",
    "\n",
    "#perform chi-squared test \n",
    "from scipy.stats import chi2_contingency\n",
    "chi2, p, dof, ex = chi2_contingency(diet_HI_table)\n",
    "\n",
    "#print results\n",
    "print(p) #p>0.05 therefore we assume missingness is independent\n"
   ]
  },
  {
   "cell_type": "markdown",
   "metadata": {},
   "source": [
    "Is missing diet information related to gender?"
   ]
  },
  {
   "cell_type": "code",
   "execution_count": null,
   "metadata": {},
   "outputs": [],
   "source": [
    "#df[df[\"diet_missing\"]==True].groupby(\"RIAGENDR\")[\"diet_missing\"].count()\n",
    "df[df[\"diet_missing\"]==False].groupby(\"RIAGENDR\")[\"diet_missing\"].count()\n"
   ]
  },
  {
   "cell_type": "code",
   "execution_count": null,
   "metadata": {},
   "outputs": [],
   "source": [
    "\n",
    "#create cont. table\n",
    "diet_gen_table = [[344, 378],[2414, 2633]]\n",
    "\n",
    "#perform chi-squared test \n",
    "from scipy.stats import chi2_contingency\n",
    "chi2, p, dof, ex = chi2_contingency(diet_gen_table)\n",
    "\n",
    "#print results\n",
    "print(p) #p>0.05 therefore we assume missingness is independent\n",
    "\n",
    "##FIX: want to test missingness related to LBDHDD "
   ]
  },
  {
   "cell_type": "code",
   "execution_count": null,
   "metadata": {},
   "outputs": [],
   "source": [
    "#df[df[\"diet_missing\"]==True].groupby(\"PAQ650\")[\"diet_missing\"].count()\n",
    "df[df[\"diet_missing\"]==False].groupby(\"PAQ650\")[\"diet_missing\"].count()"
   ]
  },
  {
   "cell_type": "code",
   "execution_count": null,
   "metadata": {},
   "outputs": [],
   "source": [
    "#create cont. table\n",
    "diet_paq_table = [[1148, 3899],[114, 608]]\n",
    "\n",
    "#perform chi-squared test \n",
    "from scipy.stats import chi2_contingency\n",
    "chi2, p, dof, ex = chi2_contingency(diet_paq_table)\n",
    "\n",
    "#print results\n",
    "print(p) #p < 0.05 therefore we assume missingness is not independent\n"
   ]
  },
  {
   "cell_type": "code",
   "execution_count": null,
   "metadata": {},
   "outputs": [],
   "source": []
  },
  {
   "cell_type": "markdown",
   "metadata": {},
   "source": [
    "## Step 2: Create patterns of missingness"
   ]
  },
  {
   "cell_type": "code",
   "execution_count": 44,
   "metadata": {},
   "outputs": [
    {
     "name": "stdout",
     "output_type": "stream",
     "text": [
      "(4756, 17)\n"
     ]
    }
   ],
   "source": [
    "#variable choice to create dataset for missignness simulation\n",
    "df_nonmiss = df[['SEQN','RIDAGEYR', 'RIAGENDR', 'RIDRETH1', 'RIDRETH3',\n",
    "                 'DMDCITZN', 'DMDEDUC2', 'BMXLEG', 'BPXPULS',\n",
    "                 'DIQ010', 'DIQ050', 'HIQ011', 'PAQ635', \n",
    "                 'PAQ650', 'PAQ665','PAD680', 'PAQ710', 'DR1TKCAL']]\n",
    "np_nonmiss = df_nonmiss.to_numpy(copy=True, na_value=np.nan) # Convert dataframe to numpy array \n",
    "\n",
    "np_nonmiss = np_nonmiss[~np.isnan(np_nonmiss).any(axis=1), :] # delete rows with any missing values\n",
    "\n",
    "seqn = np_nonmiss[:, 0] #record seqn for rows in df_nonmiss\n",
    "np_nonmiss = np_nonmiss[:, 1:18] #remove seqn\n",
    "print(np.shape(np_nonmiss))"
   ]
  },
  {
   "cell_type": "code",
   "execution_count": 10,
   "metadata": {},
   "outputs": [],
   "source": [
    "#proportion missing\n",
    "pm = [x * 0.1 for x in range(1, 7)]\n",
    "#print(pm)\n",
    "p = 0.4"
   ]
  },
  {
   "cell_type": "code",
   "execution_count": 34,
   "metadata": {},
   "outputs": [
    {
     "name": "stdout",
     "output_type": "stream",
     "text": [
      "[ 512   45  939  442  269  272  660  553  598  445  763  609  561   11\n",
      "  829  952 1041  764 1016  715  896  150  125  598  177   24  846  898\n",
      "  121   33   90  248   13  530 1008   82  586  719  504  799  273  555\n",
      "  316  186  943  323  295  634  507  362  736 1086  322  142  236 1039\n",
      " 1108  797   24  959  878  969  167  665  194  679  925  279   99  290\n",
      "  470  502  355  231  771  240  606 1034 1040  273 1061  190  129  849\n",
      "  599  869 1108  426  934  626  612  663    5  417  481  316  195  694\n",
      "  614  709   76   24  222 1099  269  257  385  306  503 1004  214    6\n",
      "  919  125  326  330  828  730  150   92  698  864  797  911 1084  551\n",
      "  556  491 1025  117  828   35  234  895  766  541  419  921   24  593\n",
      " 1005  913 1015 1057  545  624   84  513  553 1060]\n",
      "nan\n"
     ]
    }
   ],
   "source": [
    "#MCAR\n",
    "\n",
    "MCAR_data = np_nonmiss #init data\n",
    "\n",
    "MCAR_missing_indices = np.random.choice( # randomly select values from length ie flat array \n",
    "    len(np_nonmiss.flatten()), \n",
    "    size=int(len(np_nonmiss.flatten())*p)) \n",
    "MCAR_data.flat[MCAR_missing_indices] = np.nan\n",
    "\n"
   ]
  },
  {
   "cell_type": "code",
   "execution_count": null,
   "metadata": {},
   "outputs": [],
   "source": [
    "#MAR\n",
    "\n",
    "# When data are MAR, the fact that the data are missing is systematically related to the observed\n",
    "# but not the unobserved data, eg. related to age \n",
    "\n",
    "MAR_data = np_nonmiss #init data\n",
    "\n",
    "#determine indicies with PAQ values\n",
    "PAQ1_ind = np.where(np_nonmiss[:, 12] == 1) #12 col is PAQ650\n",
    "PAQ2_ind = np.where(np_nonmiss[:, 12] == 2)\n",
    "\n",
    "#randomly select indices for missing values\n",
    "MAR_missing_diet_ind = np.random.choice(len(PAQ1_ind[0]),\n",
    "                                        size = round(len(PAQ1_ind[0])*p/3))\n",
    "np.append(MAR_missing_diet_ind, \n",
    "          np.random.choice(len(PAQ2_ind[0]),\n",
    "                           size = round(len(PAQ2_ind[0])*2*p/3))) #more PAQ=2 are missing\n",
    "\n",
    "#remove those values from dataset\n",
    "for i in MAR_missing_diet_ind: \n",
    "    MAR_data[i, 16] = np.nan #16 col is DR1TKCAL\n"
   ]
  },
  {
   "cell_type": "code",
   "execution_count": 63,
   "metadata": {},
   "outputs": [
    {
     "name": "stdout",
     "output_type": "stream",
     "text": [
      "[[6.900e+01 1.000e+00 4.000e+00 ... 6.000e+02 2.000e+00       nan]\n",
      " [5.400e+01 1.000e+00 3.000e+00 ... 5.400e+02 4.000e+00       nan]\n",
      " [7.200e+01 1.000e+00 3.000e+00 ... 3.000e+02 4.000e+00       nan]\n",
      " ...\n",
      " [8.000e+01 1.000e+00 3.000e+00 ... 3.600e+02 2.000e+00 2.432e+03]\n",
      " [2.600e+01 1.000e+00 2.000e+00 ... 6.000e+02 2.000e+00 4.687e+03]\n",
      " [4.200e+01 2.000e+00 4.000e+00 ... 7.200e+02 5.000e+00 2.475e+03]]\n"
     ]
    }
   ],
   "source": [
    "#MNAR\n",
    "\n",
    "# When data are MNAR, the fact that the data are missing is systematically related to an unobserved data\n",
    "# eg. DR1TKCAL may be related to bmi (unobserved in our sample subset)\n",
    "\n",
    "MNAR_data = np_nonmiss #init data\n",
    "\n",
    "#find bmi values\n",
    "bmi = df.loc[df['SEQN'].isin(seqn)]['bmi'] #limit to subset in seqn, select col bmi\n",
    "bmi = bmi.to_numpy(copy=True, na_value=np.nan)\n",
    "\n",
    "#high bmi\n",
    "hibmi = (bmi > 25) #def of obesity\n",
    "#health bmi\n",
    "hebmi = (bmi < 25)\n",
    "\n",
    "#determine indicies with hi or low bmi values\n",
    "hibmi_ind = np.where(hibmi)[0]\n",
    "hebmi_ind = np.where(hebmi)[0]\n",
    "\n",
    "#randomly select indices for missing values\n",
    "MNAR_missing_diet_ind = np.random.choice(len(hibmi_ind),\n",
    "                                        size = round(len(hibmi_ind)*2*p/3)) #oversample hi bmi\n",
    "np.append(MNAR_missing_diet_ind, \n",
    "          np.random.choice(len(hebmi_ind),\n",
    "                           size = round(len(hebmi_ind)*p/3))) \n",
    "\n",
    "#remove those values from dataset\n",
    "for i in MNAR_missing_diet_ind: \n",
    "    MNAR_data[i, 16] = np.nan #16 col is DR1TKCAL\n"
   ]
  },
  {
   "cell_type": "markdown",
   "metadata": {},
   "source": [
    "## Step 3: Examine patterns of missingness on SVD imputation accuracy"
   ]
  }
 ],
 "metadata": {
  "kernelspec": {
   "display_name": "Python 3",
   "language": "python",
   "name": "python3"
  },
  "language_info": {
   "codemirror_mode": {
    "name": "ipython",
    "version": 3
   },
   "file_extension": ".py",
   "mimetype": "text/x-python",
   "name": "python",
   "nbconvert_exporter": "python",
   "pygments_lexer": "ipython3",
   "version": "3.8.5"
  }
 },
 "nbformat": 4,
 "nbformat_minor": 4
}
