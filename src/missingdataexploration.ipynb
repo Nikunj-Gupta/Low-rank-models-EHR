{
 "cells": [
  {
   "cell_type": "markdown",
   "metadata": {},
   "source": [
    "# Missing Data Exploration"
   ]
  },
  {
   "cell_type": "markdown",
   "metadata": {},
   "source": [
    "## Step 1: Load dataset and examine"
   ]
  },
  {
   "cell_type": "code",
   "execution_count": 1,
   "metadata": {},
   "outputs": [],
   "source": [
    "import pandas as pd\n",
    "import numpy as np\n",
    "from scipy.stats import chi2_contingency\n",
    "df = pd.read_csv('../data/data_clean.csv', sep=',', encoding='latin-1')\n",
    "# print(df.head(), df.columns, df.shape)"
   ]
  },
  {
   "cell_type": "code",
   "execution_count": 2,
   "metadata": {},
   "outputs": [
    {
     "data": {
      "text/html": [
       "<div>\n",
       "<style scoped>\n",
       "    .dataframe tbody tr th:only-of-type {\n",
       "        vertical-align: middle;\n",
       "    }\n",
       "\n",
       "    .dataframe tbody tr th {\n",
       "        vertical-align: top;\n",
       "    }\n",
       "\n",
       "    .dataframe thead th {\n",
       "        text-align: right;\n",
       "    }\n",
       "</style>\n",
       "<table border=\"1\" class=\"dataframe\">\n",
       "  <thead>\n",
       "    <tr style=\"text-align: right;\">\n",
       "      <th></th>\n",
       "      <th>SEQN</th>\n",
       "      <th>RIDAGEYR</th>\n",
       "      <th>RIAGENDR</th>\n",
       "      <th>RIDRETH1</th>\n",
       "      <th>RIDRETH3</th>\n",
       "      <th>DMDCITZN</th>\n",
       "      <th>DMDEDUC2</th>\n",
       "      <th>MIALANG</th>\n",
       "      <th>DMDHHSIZ</th>\n",
       "      <th>INDHHIN2</th>\n",
       "      <th>...</th>\n",
       "      <th>PAQ635</th>\n",
       "      <th>PAQ650</th>\n",
       "      <th>PAQ665</th>\n",
       "      <th>PAD680</th>\n",
       "      <th>PAQ706</th>\n",
       "      <th>PAQ710</th>\n",
       "      <th>LBXTC</th>\n",
       "      <th>highLDL</th>\n",
       "      <th>highbp</th>\n",
       "      <th>bmi</th>\n",
       "    </tr>\n",
       "  </thead>\n",
       "  <tbody>\n",
       "    <tr>\n",
       "      <th>count</th>\n",
       "      <td>5769.000000</td>\n",
       "      <td>5769.000000</td>\n",
       "      <td>5769.000000</td>\n",
       "      <td>5769.000000</td>\n",
       "      <td>5769.000000</td>\n",
       "      <td>5759.000000</td>\n",
       "      <td>5762.000000</td>\n",
       "      <td>5146.000000</td>\n",
       "      <td>5769.000000</td>\n",
       "      <td>5493.000000</td>\n",
       "      <td>...</td>\n",
       "      <td>5769.000000</td>\n",
       "      <td>5769.000000</td>\n",
       "      <td>5769.000000</td>\n",
       "      <td>5764.000000</td>\n",
       "      <td>0.0</td>\n",
       "      <td>5766.000000</td>\n",
       "      <td>5342.000000</td>\n",
       "      <td>2513.000000</td>\n",
       "      <td>5111.000000</td>\n",
       "      <td>5520.000000</td>\n",
       "    </tr>\n",
       "    <tr>\n",
       "      <th>mean</th>\n",
       "      <td>78673.297105</td>\n",
       "      <td>49.111111</td>\n",
       "      <td>1.521928</td>\n",
       "      <td>3.143006</td>\n",
       "      <td>3.320333</td>\n",
       "      <td>1.130231</td>\n",
       "      <td>3.512843</td>\n",
       "      <td>1.075204</td>\n",
       "      <td>3.249090</td>\n",
       "      <td>8.649736</td>\n",
       "      <td>...</td>\n",
       "      <td>1.753337</td>\n",
       "      <td>1.781245</td>\n",
       "      <td>1.589704</td>\n",
       "      <td>454.806384</td>\n",
       "      <td>NaN</td>\n",
       "      <td>2.647763</td>\n",
       "      <td>189.131973</td>\n",
       "      <td>0.087545</td>\n",
       "      <td>0.362747</td>\n",
       "      <td>29.102323</td>\n",
       "    </tr>\n",
       "    <tr>\n",
       "      <th>std</th>\n",
       "      <td>2920.958598</td>\n",
       "      <td>17.563200</td>\n",
       "      <td>0.499562</td>\n",
       "      <td>1.178799</td>\n",
       "      <td>1.501965</td>\n",
       "      <td>0.336587</td>\n",
       "      <td>1.224465</td>\n",
       "      <td>0.263746</td>\n",
       "      <td>1.697629</td>\n",
       "      <td>4.454555</td>\n",
       "      <td>...</td>\n",
       "      <td>0.431106</td>\n",
       "      <td>0.413438</td>\n",
       "      <td>0.491930</td>\n",
       "      <td>604.770937</td>\n",
       "      <td>NaN</td>\n",
       "      <td>1.819410</td>\n",
       "      <td>41.857324</td>\n",
       "      <td>0.282688</td>\n",
       "      <td>0.480840</td>\n",
       "      <td>7.153432</td>\n",
       "    </tr>\n",
       "    <tr>\n",
       "      <th>min</th>\n",
       "      <td>73557.000000</td>\n",
       "      <td>20.000000</td>\n",
       "      <td>1.000000</td>\n",
       "      <td>1.000000</td>\n",
       "      <td>1.000000</td>\n",
       "      <td>1.000000</td>\n",
       "      <td>1.000000</td>\n",
       "      <td>1.000000</td>\n",
       "      <td>1.000000</td>\n",
       "      <td>1.000000</td>\n",
       "      <td>...</td>\n",
       "      <td>1.000000</td>\n",
       "      <td>1.000000</td>\n",
       "      <td>1.000000</td>\n",
       "      <td>0.000000</td>\n",
       "      <td>NaN</td>\n",
       "      <td>0.000000</td>\n",
       "      <td>69.000000</td>\n",
       "      <td>0.000000</td>\n",
       "      <td>0.000000</td>\n",
       "      <td>14.140802</td>\n",
       "    </tr>\n",
       "    <tr>\n",
       "      <th>25%</th>\n",
       "      <td>76170.000000</td>\n",
       "      <td>34.000000</td>\n",
       "      <td>1.000000</td>\n",
       "      <td>3.000000</td>\n",
       "      <td>3.000000</td>\n",
       "      <td>1.000000</td>\n",
       "      <td>3.000000</td>\n",
       "      <td>1.000000</td>\n",
       "      <td>2.000000</td>\n",
       "      <td>5.000000</td>\n",
       "      <td>...</td>\n",
       "      <td>2.000000</td>\n",
       "      <td>2.000000</td>\n",
       "      <td>1.000000</td>\n",
       "      <td>240.000000</td>\n",
       "      <td>NaN</td>\n",
       "      <td>1.000000</td>\n",
       "      <td>161.000000</td>\n",
       "      <td>0.000000</td>\n",
       "      <td>0.000000</td>\n",
       "      <td>24.098343</td>\n",
       "    </tr>\n",
       "    <tr>\n",
       "      <th>50%</th>\n",
       "      <td>78716.000000</td>\n",
       "      <td>48.000000</td>\n",
       "      <td>2.000000</td>\n",
       "      <td>3.000000</td>\n",
       "      <td>3.000000</td>\n",
       "      <td>1.000000</td>\n",
       "      <td>4.000000</td>\n",
       "      <td>1.000000</td>\n",
       "      <td>3.000000</td>\n",
       "      <td>8.000000</td>\n",
       "      <td>...</td>\n",
       "      <td>2.000000</td>\n",
       "      <td>2.000000</td>\n",
       "      <td>2.000000</td>\n",
       "      <td>420.000000</td>\n",
       "      <td>NaN</td>\n",
       "      <td>2.000000</td>\n",
       "      <td>186.000000</td>\n",
       "      <td>0.000000</td>\n",
       "      <td>0.000000</td>\n",
       "      <td>27.859011</td>\n",
       "    </tr>\n",
       "    <tr>\n",
       "      <th>75%</th>\n",
       "      <td>81170.000000</td>\n",
       "      <td>63.000000</td>\n",
       "      <td>2.000000</td>\n",
       "      <td>4.000000</td>\n",
       "      <td>4.000000</td>\n",
       "      <td>1.000000</td>\n",
       "      <td>5.000000</td>\n",
       "      <td>1.000000</td>\n",
       "      <td>4.000000</td>\n",
       "      <td>14.000000</td>\n",
       "      <td>...</td>\n",
       "      <td>2.000000</td>\n",
       "      <td>2.000000</td>\n",
       "      <td>2.000000</td>\n",
       "      <td>540.000000</td>\n",
       "      <td>NaN</td>\n",
       "      <td>4.000000</td>\n",
       "      <td>213.000000</td>\n",
       "      <td>0.000000</td>\n",
       "      <td>1.000000</td>\n",
       "      <td>32.472495</td>\n",
       "    </tr>\n",
       "    <tr>\n",
       "      <th>max</th>\n",
       "      <td>83729.000000</td>\n",
       "      <td>80.000000</td>\n",
       "      <td>2.000000</td>\n",
       "      <td>5.000000</td>\n",
       "      <td>7.000000</td>\n",
       "      <td>2.000000</td>\n",
       "      <td>5.000000</td>\n",
       "      <td>2.000000</td>\n",
       "      <td>7.000000</td>\n",
       "      <td>15.000000</td>\n",
       "      <td>...</td>\n",
       "      <td>2.000000</td>\n",
       "      <td>2.000000</td>\n",
       "      <td>2.000000</td>\n",
       "      <td>9999.000000</td>\n",
       "      <td>NaN</td>\n",
       "      <td>8.000000</td>\n",
       "      <td>813.000000</td>\n",
       "      <td>1.000000</td>\n",
       "      <td>1.000000</td>\n",
       "      <td>82.946544</td>\n",
       "    </tr>\n",
       "  </tbody>\n",
       "</table>\n",
       "<p>8 rows × 58 columns</p>\n",
       "</div>"
      ],
      "text/plain": [
       "               SEQN     RIDAGEYR     RIAGENDR     RIDRETH1     RIDRETH3  \\\n",
       "count   5769.000000  5769.000000  5769.000000  5769.000000  5769.000000   \n",
       "mean   78673.297105    49.111111     1.521928     3.143006     3.320333   \n",
       "std     2920.958598    17.563200     0.499562     1.178799     1.501965   \n",
       "min    73557.000000    20.000000     1.000000     1.000000     1.000000   \n",
       "25%    76170.000000    34.000000     1.000000     3.000000     3.000000   \n",
       "50%    78716.000000    48.000000     2.000000     3.000000     3.000000   \n",
       "75%    81170.000000    63.000000     2.000000     4.000000     4.000000   \n",
       "max    83729.000000    80.000000     2.000000     5.000000     7.000000   \n",
       "\n",
       "          DMDCITZN     DMDEDUC2      MIALANG     DMDHHSIZ     INDHHIN2  ...  \\\n",
       "count  5759.000000  5762.000000  5146.000000  5769.000000  5493.000000  ...   \n",
       "mean      1.130231     3.512843     1.075204     3.249090     8.649736  ...   \n",
       "std       0.336587     1.224465     0.263746     1.697629     4.454555  ...   \n",
       "min       1.000000     1.000000     1.000000     1.000000     1.000000  ...   \n",
       "25%       1.000000     3.000000     1.000000     2.000000     5.000000  ...   \n",
       "50%       1.000000     4.000000     1.000000     3.000000     8.000000  ...   \n",
       "75%       1.000000     5.000000     1.000000     4.000000    14.000000  ...   \n",
       "max       2.000000     5.000000     2.000000     7.000000    15.000000  ...   \n",
       "\n",
       "            PAQ635       PAQ650       PAQ665       PAD680  PAQ706  \\\n",
       "count  5769.000000  5769.000000  5769.000000  5764.000000     0.0   \n",
       "mean      1.753337     1.781245     1.589704   454.806384     NaN   \n",
       "std       0.431106     0.413438     0.491930   604.770937     NaN   \n",
       "min       1.000000     1.000000     1.000000     0.000000     NaN   \n",
       "25%       2.000000     2.000000     1.000000   240.000000     NaN   \n",
       "50%       2.000000     2.000000     2.000000   420.000000     NaN   \n",
       "75%       2.000000     2.000000     2.000000   540.000000     NaN   \n",
       "max       2.000000     2.000000     2.000000  9999.000000     NaN   \n",
       "\n",
       "            PAQ710        LBXTC      highLDL       highbp          bmi  \n",
       "count  5766.000000  5342.000000  2513.000000  5111.000000  5520.000000  \n",
       "mean      2.647763   189.131973     0.087545     0.362747    29.102323  \n",
       "std       1.819410    41.857324     0.282688     0.480840     7.153432  \n",
       "min       0.000000    69.000000     0.000000     0.000000    14.140802  \n",
       "25%       1.000000   161.000000     0.000000     0.000000    24.098343  \n",
       "50%       2.000000   186.000000     0.000000     0.000000    27.859011  \n",
       "75%       4.000000   213.000000     0.000000     1.000000    32.472495  \n",
       "max       8.000000   813.000000     1.000000     1.000000    82.946544  \n",
       "\n",
       "[8 rows x 58 columns]"
      ]
     },
     "execution_count": 2,
     "metadata": {},
     "output_type": "execute_result"
    }
   ],
   "source": [
    "df.describe()"
   ]
  },
  {
   "cell_type": "markdown",
   "metadata": {},
   "source": [
    "Remove PAQ706, since all values missing. Examine missingness of variables in each columns. Remove columns CDQ001, CDQ010, DIQ070, DBD100, highLDL since >1000 missing values"
   ]
  },
  {
   "cell_type": "code",
   "execution_count": 4,
   "metadata": {},
   "outputs": [],
   "source": [
    "df = df.drop(columns=['PAQ706'])\n",
    "\n",
    "df = df.drop(columns = ['CDQ001', 'CDQ010', 'DIQ070', 'DBD100', 'highLDL'])"
   ]
  },
  {
   "cell_type": "code",
   "execution_count": 5,
   "metadata": {},
   "outputs": [
    {
     "data": {
      "text/plain": [
       "SEQN          0\n",
       "RIDAGEYR      0\n",
       "RIAGENDR      0\n",
       "RIDRETH1      0\n",
       "RIDRETH3      0\n",
       "DMDCITZN     10\n",
       "DMDEDUC2      7\n",
       "MIALANG     623\n",
       "DMDHHSIZ      0\n",
       "INDHHIN2    276\n",
       "INDFMIN2    265\n",
       "INDFMPIR    455\n",
       "BMXLEG      504\n",
       "BMXARML     444\n",
       "BMXARMC     441\n",
       "BMXWAIST    499\n",
       "BMDAVSAD    670\n",
       "BPXPLS      365\n",
       "BPXPULS     364\n",
       "DIQ010        0\n",
       "DIQ160      896\n",
       "DIQ170      722\n",
       "DIQ172      722\n",
       "DIQ180      722\n",
       "DIQ050        1\n",
       "DBQ095Z     683\n",
       "DRQSPREP    683\n",
       "DR1STY      683\n",
       "DRQSDIET    683\n",
       "DR1TKCAL    722\n",
       "DR1TPROT    722\n",
       "DR1TCARB    722\n",
       "DR1TSUGR    722\n",
       "DR1TFIBE    722\n",
       "DR1TTFAT    722\n",
       "DR1TSFAT    722\n",
       "DR1TMFAT    722\n",
       "DR1TPFAT    722\n",
       "DR1TCHOL    722\n",
       "DR1TSODI    722\n",
       "DR1TALCO    722\n",
       "DR1_320Z    722\n",
       "LBDHDD      427\n",
       "HIQ011        0\n",
       "PAQ635        0\n",
       "PAQ650        0\n",
       "PAQ665        0\n",
       "PAD680        5\n",
       "PAQ710        3\n",
       "LBXTC       427\n",
       "highbp      658\n",
       "bmi         249\n",
       "dtype: int64"
      ]
     },
     "execution_count": 5,
     "metadata": {},
     "output_type": "execute_result"
    }
   ],
   "source": [
    "df.isna().sum()"
   ]
  },
  {
   "cell_type": "markdown",
   "metadata": {},
   "source": [
    "Missingness of diet information. If DR1TKCAL is missing, are all other diet variables missing as well? Yes. But not the same rows as missing DIQ170 data."
   ]
  },
  {
   "cell_type": "code",
   "execution_count": 27,
   "metadata": {},
   "outputs": [
    {
     "data": {
      "text/plain": [
       "SEQN              0\n",
       "RIDAGEYR          0\n",
       "RIAGENDR          0\n",
       "RIDRETH1          0\n",
       "RIDRETH3          0\n",
       "DMDCITZN         10\n",
       "DMDEDUC2          3\n",
       "MIALANG         206\n",
       "DMDHHSIZ          0\n",
       "INDHHIN2        217\n",
       "INDFMIN2        207\n",
       "INDFMPIR        361\n",
       "BMXLEG          170\n",
       "BMXARML         123\n",
       "BMXARMC         120\n",
       "BMXWAIST        165\n",
       "BMDAVSAD        315\n",
       "BPXPLS          106\n",
       "BPXPULS         105\n",
       "DIQ010            0\n",
       "DIQ160          788\n",
       "DIQ170          630\n",
       "DIQ172          630\n",
       "DIQ180          630\n",
       "DIQ050            1\n",
       "DBQ095Z           0\n",
       "DRQSPREP          0\n",
       "DR1STY            0\n",
       "DRQSDIET          0\n",
       "DR1TKCAL          0\n",
       "DR1TPROT          0\n",
       "DR1TCARB          0\n",
       "DR1TSUGR          0\n",
       "DR1TFIBE          0\n",
       "DR1TTFAT          0\n",
       "DR1TSFAT          0\n",
       "DR1TMFAT          0\n",
       "DR1TPFAT          0\n",
       "DR1TCHOL          0\n",
       "DR1TSODI          0\n",
       "DR1TALCO          0\n",
       "DR1_320Z          0\n",
       "LBDHDD          182\n",
       "HIQ011            0\n",
       "PAQ635            0\n",
       "PAQ650            0\n",
       "PAQ665            0\n",
       "PAD680            5\n",
       "PAQ710            1\n",
       "LBXTC           182\n",
       "highbp          364\n",
       "bmi              37\n",
       "diet_missing      0\n",
       "dtype: int64"
      ]
     },
     "execution_count": 27,
     "metadata": {},
     "output_type": "execute_result"
    }
   ],
   "source": [
    "df_temp = df[df.DR1TKCAL.notnull()]\n",
    "df_temp.isna().sum()"
   ]
  },
  {
   "cell_type": "markdown",
   "metadata": {},
   "source": [
    "Examine missingness of diet information related to other columns. Is it MCAR?"
   ]
  },
  {
   "cell_type": "code",
   "execution_count": 8,
   "metadata": {},
   "outputs": [],
   "source": [
    "# Initialize the missing diet columns\n",
    "df[\"diet_missing\"] = df[\"DR1TKCAL\"]\n",
    "# The column is false\n",
    "df[\"diet_missing\"] = False\n",
    "# Replace where Height_missing with True where Height is missing\n",
    "df.loc[df[df['DR1TKCAL'].isnull()].index, \"diet_missing\"] = True"
   ]
  },
  {
   "cell_type": "markdown",
   "metadata": {},
   "source": [
    "Is missing diet information related to health insurance status?"
   ]
  },
  {
   "cell_type": "code",
   "execution_count": 17,
   "metadata": {},
   "outputs": [
    {
     "data": {
      "text/plain": [
       "HIQ011\n",
       "1    567\n",
       "2    154\n",
       "7      1\n",
       "Name: diet_missing, dtype: int64"
      ]
     },
     "execution_count": 17,
     "metadata": {},
     "output_type": "execute_result"
    }
   ],
   "source": [
    "df[df[\"diet_missing\"]==True].groupby(\"HIQ011\")[\"diet_missing\"].count()\n"
   ]
  },
  {
   "cell_type": "code",
   "execution_count": 18,
   "metadata": {},
   "outputs": [
    {
     "data": {
      "text/plain": [
       "HIQ011\n",
       "1    3976\n",
       "2    1066\n",
       "7       1\n",
       "9       4\n",
       "Name: diet_missing, dtype: int64"
      ]
     },
     "execution_count": 18,
     "metadata": {},
     "output_type": "execute_result"
    }
   ],
   "source": [
    "df[df[\"diet_missing\"]==False].groupby(\"HIQ011\")[\"diet_missing\"].count()"
   ]
  },
  {
   "cell_type": "code",
   "execution_count": 21,
   "metadata": {},
   "outputs": [
    {
     "name": "stdout",
     "output_type": "stream",
     "text": [
      "0.9326030838512223\n"
     ]
    }
   ],
   "source": [
    "#create cont. table\n",
    "diet_HI_table = [[567, 154],[3976,1066]]\n",
    "\n",
    "#perform chi-squared test \n",
    "from scipy.stats import chi2_contingency\n",
    "chi2, p, dof, ex = chi2_contingency(diet_HI_table)\n",
    "\n",
    "#print results\n",
    "print(p) #p>0.05 therefore we assume missingness is independent\n"
   ]
  },
  {
   "cell_type": "markdown",
   "metadata": {},
   "source": [
    "Is missing diet information related to gender?"
   ]
  },
  {
   "cell_type": "code",
   "execution_count": 24,
   "metadata": {},
   "outputs": [
    {
     "data": {
      "text/plain": [
       "RIAGENDR\n",
       "1    2414\n",
       "2    2633\n",
       "Name: diet_missing, dtype: int64"
      ]
     },
     "execution_count": 24,
     "metadata": {},
     "output_type": "execute_result"
    }
   ],
   "source": [
    "#df[df[\"diet_missing\"]==True].groupby(\"RIAGENDR\")[\"diet_missing\"].count()\n",
    "df[df[\"diet_missing\"]==False].groupby(\"RIAGENDR\")[\"diet_missing\"].count()\n"
   ]
  },
  {
   "cell_type": "code",
   "execution_count": 26,
   "metadata": {},
   "outputs": [
    {
     "name": "stdout",
     "output_type": "stream",
     "text": [
      "0.9575450638636349\n"
     ]
    }
   ],
   "source": [
    "\n",
    "#create cont. table\n",
    "diet_gen_table = [[344, 378],[2414, 2633]]\n",
    "\n",
    "#perform chi-squared test \n",
    "from scipy.stats import chi2_contingency\n",
    "chi2, p, dof, ex = chi2_contingency(diet_gen_table)\n",
    "\n",
    "#print results\n",
    "print(p) #p>0.05 therefore we assume missingness is independent"
   ]
  },
  {
   "cell_type": "markdown",
   "metadata": {},
   "source": [
    "## Step 2: Create patterns of missingness"
   ]
  },
  {
   "cell_type": "code",
   "execution_count": 34,
   "metadata": {},
   "outputs": [
    {
     "name": "stdout",
     "output_type": "stream",
     "text": [
      "(5112, 16)\n"
     ]
    }
   ],
   "source": [
    "#variable choice to create dataset for missignness simulation\n",
    "df_nonmiss = df[['RIDAGEYR', 'RIAGENDR', 'RIDRETH1', 'RIDRETH3',\n",
    "                 'DMDCITZN', 'DMDEDUC2', 'BMXLEG', 'BPXPULS',\n",
    "                 'DIQ010', 'DIQ050', 'HIQ011', 'PAQ635',\n",
    "                 'PAQ650', 'PAQ665','PAD680', 'PAQ710']]\n",
    "np_nonmiss = df_nonmiss.to_numpy(copy=True, na_value=np.nan) # Convert dataframe to numpy array \n",
    "\n",
    "np_nonmiss = np_nonmiss[~np.isnan(np_nonmiss).any(axis=1), :] # delete rows with any missing values\n",
    "print(np.shape(np_nonmiss))"
   ]
  },
  {
   "cell_type": "code",
   "execution_count": 35,
   "metadata": {},
   "outputs": [],
   "source": [
    "#proportion missing\n",
    "pm = 1/10"
   ]
  },
  {
   "cell_type": "code",
   "execution_count": null,
   "metadata": {},
   "outputs": [],
   "source": [
    "MCAR_missing_indices = np.random.choice( # randomly select values from length ie flat array \n",
    "    len(np_nonmiss.flatten()), \n",
    "    size=int(len(np_nonmiss.flatten())*pm)) \n",
    "\n",
    "\n",
    "# When data are MAR, the fact that the data are missing is systematically related to the observed\n",
    "# but not the unobserved data, eg. related to age \n",
    "\n",
    "# When data are MNAR, the fact that the data are missing is systematically related to an unobserved data\n",
    "# eg. PAQ635 (walking or bicycling for exercise) may be related to bmi (unobserved in our sample subset)"
   ]
  },
  {
   "cell_type": "markdown",
   "metadata": {},
   "source": [
    "## Step 3: Examine patterns of missingness on SVD imputation accuracy"
   ]
  }
 ],
 "metadata": {
  "kernelspec": {
   "display_name": "Python 3",
   "language": "python",
   "name": "python3"
  },
  "language_info": {
   "codemirror_mode": {
    "name": "ipython",
    "version": 3
   },
   "file_extension": ".py",
   "mimetype": "text/x-python",
   "name": "python",
   "nbconvert_exporter": "python",
   "pygments_lexer": "ipython3",
   "version": "3.8.5"
  }
 },
 "nbformat": 4,
 "nbformat_minor": 4
}
