{
 "cells": [
  {
   "cell_type": "code",
   "execution_count": 1,
   "id": "8647c1e6",
   "metadata": {},
   "outputs": [],
   "source": [
    "import numpy as np\n",
    "from sklearn.linear_model import LinearRegression"
   ]
  },
  {
   "cell_type": "code",
   "execution_count": 2,
   "id": "95f9ad51",
   "metadata": {},
   "outputs": [],
   "source": [
    "x = np.array([5, 15, 25, 35, 45, 55]).reshape((-1, 1))\n",
    "y = np.array([5, 20, 14, 32, 22, 38])"
   ]
  },
  {
   "cell_type": "code",
   "execution_count": 3,
   "id": "6eb4433a",
   "metadata": {},
   "outputs": [
    {
     "data": {
      "text/plain": [
       "LinearRegression()"
      ]
     },
     "execution_count": 3,
     "metadata": {},
     "output_type": "execute_result"
    }
   ],
   "source": [
    "model = LinearRegression().fit(x, y)\n",
    "model "
   ]
  },
  {
   "cell_type": "code",
   "execution_count": 4,
   "id": "ced55697",
   "metadata": {},
   "outputs": [
    {
     "name": "stdout",
     "output_type": "stream",
     "text": [
      "coefficient of determination: 0.715875613747954\n"
     ]
    }
   ],
   "source": [
    "r_sq = model.score(x, y) \n",
    "print('coefficient of determination:', r_sq)"
   ]
  },
  {
   "cell_type": "code",
   "execution_count": 5,
   "id": "4d4f56df",
   "metadata": {},
   "outputs": [
    {
     "name": "stdout",
     "output_type": "stream",
     "text": [
      "intercept: 5.633333333333333\n",
      "slope: [0.54]\n"
     ]
    }
   ],
   "source": [
    "print('intercept:', model.intercept_) \n",
    "print('slope:', model.coef_)"
   ]
  },
  {
   "cell_type": "code",
   "execution_count": 6,
   "id": "e7f212a4",
   "metadata": {},
   "outputs": [
    {
     "name": "stdout",
     "output_type": "stream",
     "text": [
      "predicted response:\n",
      "[ 8.33333333 13.73333333 19.13333333 24.53333333 29.93333333 35.33333333]\n"
     ]
    }
   ],
   "source": [
    "y_pred = model.predict(x) \n",
    "print('predicted response:', y_pred, sep='\\n') "
   ]
  },
  {
   "cell_type": "code",
   "execution_count": 10,
   "id": "137101ff",
   "metadata": {},
   "outputs": [],
   "source": [
    "data = np.load('lowrank_estimate.npy')"
   ]
  },
  {
   "cell_type": "code",
   "execution_count": 11,
   "id": "87bf4f98",
   "metadata": {},
   "outputs": [
    {
     "data": {
      "text/plain": [
       "array([[7.35570586e+04, 4.65270619e+01, 1.46395085e+00, ...,\n",
       "        7.73784437e-02, 3.37930066e-01, 2.73494845e+01],\n",
       "       [7.35580265e+04, 4.34549132e+01, 8.19239161e-01, ...,\n",
       "        1.61152461e-01, 3.89402207e-01, 2.94339214e+01],\n",
       "       [7.35589334e+04, 4.47387762e+01, 1.44717036e+00, ...,\n",
       "        7.15284216e-02, 3.26311827e-01, 2.69826023e+01],\n",
       "       ...,\n",
       "       [8.37259764e+04, 5.79025162e+01, 1.78042712e+00, ...,\n",
       "        8.26397809e-02, 4.41933040e-01, 3.04539486e+01],\n",
       "       [8.37268946e+04, 4.68751249e+01, 1.32429624e+00, ...,\n",
       "        9.72961932e-02, 3.51847349e-01, 3.09164917e+01],\n",
       "       [8.37288680e+04, 5.09006404e+01, 1.56693695e+00, ...,\n",
       "        7.40962849e-02, 3.69658811e-01, 3.07177731e+01]])"
      ]
     },
     "execution_count": 11,
     "metadata": {},
     "output_type": "execute_result"
    }
   ],
   "source": [
    "data "
   ]
  },
  {
   "cell_type": "code",
   "execution_count": null,
   "id": "bb5e3103",
   "metadata": {},
   "outputs": [],
   "source": []
  }
 ],
 "metadata": {
  "kernelspec": {
   "display_name": "Python 3 (ipykernel)",
   "language": "python",
   "name": "python3"
  },
  "language_info": {
   "codemirror_mode": {
    "name": "ipython",
    "version": 3
   },
   "file_extension": ".py",
   "mimetype": "text/x-python",
   "name": "python",
   "nbconvert_exporter": "python",
   "pygments_lexer": "ipython3",
   "version": "3.8.9"
  }
 },
 "nbformat": 4,
 "nbformat_minor": 5
}
