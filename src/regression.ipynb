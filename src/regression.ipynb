{
 "cells": [
  {
   "cell_type": "code",
   "execution_count": 18,
   "id": "8647c1e6",
   "metadata": {},
   "outputs": [],
   "source": [
    "import numpy as np, pandas as pd \n",
    "from sklearn.linear_model import LinearRegression\n",
    "from sklearn.linear_model import Ridge\n",
    "from sklearn.linear_model import Lasso\n",
    "from sklearn.model_selection import train_test_split\n",
    "from sklearn.metrics import mean_squared_error\n",
    "import matplotlib.pyplot as plt"
   ]
  },
  {
   "cell_type": "code",
   "execution_count": 19,
   "id": "95f9ad51",
   "metadata": {},
   "outputs": [],
   "source": [
    "x = np.array([5, 15, 25, 35, 45, 55]).reshape((-1, 1))\n",
    "y = np.array([5, 20, 14, 32, 22, 38])"
   ]
  },
  {
   "cell_type": "code",
   "execution_count": 39,
   "id": "32a09d47",
   "metadata": {},
   "outputs": [],
   "source": [
    "x = np.load('lowrank_estimate.npy') \n",
    "\n",
    "df = pd.read_csv('../data/data_clean.csv', sep=',', encoding='latin-1')\n",
    "df = df.drop(columns=['PAQ706'])\n",
    "df = df[df.BPXSY1.notnull()] \n",
    "y = df.BPXSY1.to_numpy() \n",
    "# df = df.drop(columns=['BPXSY1']) \n",
    "# x = df.to_numpy() \n",
    "# col_mean = np.nanmean(x, axis=0)\n",
    "# inds = np.where(np.isnan(x))\n",
    "# x[inds] = np.take(col_mean, inds[1]) "
   ]
  },
  {
   "cell_type": "code",
   "execution_count": 40,
   "id": "fbac895d",
   "metadata": {},
   "outputs": [],
   "source": [
    "x_train, x_test, y_train, y_test = train_test_split(x, y, test_size=0.3) "
   ]
  },
  {
   "cell_type": "code",
   "execution_count": 41,
   "id": "b622db95",
   "metadata": {},
   "outputs": [
    {
     "data": {
      "text/plain": [
       "(3577, 56)"
      ]
     },
     "execution_count": 41,
     "metadata": {},
     "output_type": "execute_result"
    }
   ],
   "source": [
    "x_train.shape"
   ]
  },
  {
   "cell_type": "markdown",
   "id": "d1d534dd",
   "metadata": {},
   "source": [
    "Linear Regression"
   ]
  },
  {
   "cell_type": "code",
   "execution_count": 42,
   "id": "6eb4433a",
   "metadata": {},
   "outputs": [
    {
     "name": "stdout",
     "output_type": "stream",
     "text": [
      "coefficient of determination: 0.3310000367143471\n",
      "predicted response:\n",
      "[117.09816292 109.67086153 130.18468078 ... 108.98683747 107.13398048\n",
      " 124.62290396]\n",
      "actual response:\n",
      "[122. 156. 140. ... 164. 110. 136.]\n"
     ]
    }
   ],
   "source": [
    "model = LinearRegression().fit(x_train, y_train)\n",
    "r_sq = model.score(x_train, y_train) \n",
    "print('coefficient of determination:', r_sq) \n",
    "y_pred = model.predict(x_train) \n",
    "print('predicted response:', y_pred, sep='\\n') \n",
    "print('actual response:', y, sep='\\n')"
   ]
  },
  {
   "cell_type": "markdown",
   "id": "6ab17d54",
   "metadata": {},
   "source": [
    "Testing ridge regression and lasso"
   ]
  },
  {
   "cell_type": "code",
   "execution_count": 37,
   "id": "32f21aa6",
   "metadata": {},
   "outputs": [],
   "source": [
    "# start = -4\n",
    "# stop = 2\n",
    "# err_train = []\n",
    "# err_test = []\n",
    "# # for i in np.arange(start, stop, (stop - start)/30):\n",
    "# for i in np.logspace(start, stop, num=50):\n",
    "#     model = Ridge(alpha=i)\n",
    "#     # model = Lasso(alpha=i)\n",
    "#     model.fit(x_train, y_train)\n",
    "#     r_sq = model.score(x_train, y_train) \n",
    "#     # print('coefficient of determination:', r_sq) \n",
    "#     err_train.append(mean_squared_error(y_true=y_train , y_pred=model.predict(x_train)))\n",
    "#     err_test.append(mean_squared_error(y_true=y_test , y_pred=model.predict(x_test)))\n",
    "\n",
    "# # print(err)\n"
   ]
  },
  {
   "cell_type": "code",
   "execution_count": 38,
   "id": "9053a093",
   "metadata": {},
   "outputs": [
    {
     "name": "stdout",
     "output_type": "stream",
     "text": [
      "[216.26528145654538, 216.2652814563967, 216.26528145619957, 216.26528145593826, 216.26528145559178, 216.26528145513245, 216.26528145452357, 216.2652814537163, 216.26528145264618, 216.26528145122748, 216.26528144934667, 216.26528144685327, 216.26528144354768, 216.26528143916548, 216.2652814333559, 216.26528142565414, 216.2652814154438, 216.2652814019079, 216.26528138396318, 216.26528136017367, 216.26528132863564, 216.26528128682534, 216.26528123139695, 216.26528115791507, 216.2652810604995, 216.26528093135482, 216.2652807601468, 216.2652805331752, 216.26528023227803, 216.2652798333779, 216.26527930455632, 216.26527860350006, 216.26527767411682, 216.26527644204916, 216.2652748087293, 216.26527264349983, 216.26526977317332, 216.26526596819969, 216.26526092434398, 216.26525423842224, 216.26524537618192, 216.2652336298032, 216.26521806170268, 216.2651974302889, 216.26517009198338, 216.26513387211648, 216.26508589515635, 216.26502236207187, 216.2649382594494, 216.26482698136257]\n"
     ]
    },
    {
     "data": {
      "image/png": "[encoded data removed]",
      "text/plain": [
       "<Figure size 432x288 with 1 Axes>"
      ]
     },
     "metadata": {
      "needs_background": "light"
     },
     "output_type": "display_data"
    }
   ],
   "source": [
    "# # plt.plot(np.logspace(start, stop, num=50), err_train)\n",
    "# plt.plot(np.logspace(start, stop, num=50), err_test)\n",
    "# print(err_test)"
   ]
  },
  {
   "cell_type": "code",
   "execution_count": 8,
   "id": "ced55697",
   "metadata": {},
   "outputs": [],
   "source": [
    "# r_sq = model.score(x_train, y_train) \n",
    "# print('coefficient of determination:', r_sq)"
   ]
  },
  {
   "cell_type": "code",
   "execution_count": 9,
   "id": "86d73c72",
   "metadata": {},
   "outputs": [],
   "source": [
    "# r_sq = model.score(x_test, y_test) \n",
    "# print('coefficient of determination (test):', r_sq)"
   ]
  },
  {
   "cell_type": "code",
   "execution_count": 10,
   "id": "4d4f56df",
   "metadata": {},
   "outputs": [],
   "source": [
    "# print('intercept:', model.intercept_) \n",
    "# print('slope:', model.coef_)"
   ]
  },
  {
   "cell_type": "code",
   "execution_count": 11,
   "id": "e7f212a4",
   "metadata": {},
   "outputs": [],
   "source": [
    "# y_pred = model.predict(x_train) \n",
    "# print('predicted response:', y_pred, sep='\\n') \n",
    "# print('actual response:', y, sep='\\n') "
   ]
  },
  {
   "cell_type": "code",
   "execution_count": 12,
   "id": "bc2e65e0",
   "metadata": {},
   "outputs": [],
   "source": [
    "# y_pred = model.predict(x) \n",
    "# print('predicted response:', y_pred, sep='\\n') \n",
    "# print('actual response:', y, sep='\\n') "
   ]
  }
 ],
 "metadata": {
  "kernelspec": {
   "display_name": "Python 3 (ipykernel)",
   "language": "python",
   "name": "python3"
  },
  "language_info": {
   "codemirror_mode": {
    "name": "ipython",
    "version": 3
   },
   "file_extension": ".py",
   "mimetype": "text/x-python",
   "name": "python",
   "nbconvert_exporter": "python",
   "pygments_lexer": "ipython3",
   "version": "3.10.2"
  }
 },
 "nbformat": 4,
 "nbformat_minor": 5
}
