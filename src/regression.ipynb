{
 "cells": [
  {
   "cell_type": "code",
   "execution_count": 1,
   "id": "8647c1e6",
   "metadata": {},
   "outputs": [],
   "source": [
    "import numpy as np, pandas as pd \n",
    "from sklearn.linear_model import LinearRegression\n",
    "from sklearn.model_selection import train_test_split"
   ]
  },
  {
   "cell_type": "code",
   "execution_count": 2,
   "id": "95f9ad51",
   "metadata": {},
   "outputs": [],
   "source": [
    "x = np.array([5, 15, 25, 35, 45, 55]).reshape((-1, 1))\n",
    "y = np.array([5, 20, 14, 32, 22, 38])"
   ]
  },
  {
   "cell_type": "code",
   "execution_count": 3,
   "id": "32a09d47",
   "metadata": {},
   "outputs": [],
   "source": [
    "x = np.load('lowrank_estimate.npy') \n",
    "\n",
    "df = pd.read_csv('../data/data_clean.csv', sep=',', encoding='latin-1')\n",
    "df = df.drop(columns=['PAQ706'])\n",
    "df = df[df.BPXSY1.notnull()] \n",
    "y = df.BPXSY1.to_numpy() \n",
    "# df = df.drop(columns=['BPXSY1']) \n",
    "# x = df.to_numpy() \n",
    "# col_mean = np.nanmean(x, axis=0)\n",
    "# inds = np.where(np.isnan(x))\n",
    "# x[inds] = np.take(col_mean, inds[1]) "
   ]
  },
  {
   "cell_type": "code",
   "execution_count": 4,
   "id": "fbac895d",
   "metadata": {},
   "outputs": [],
   "source": [
    "x_train, x_test, y_train, y_test = train_test_split(x, y, test_size=0.3) "
   ]
  },
  {
   "cell_type": "code",
   "execution_count": 5,
   "id": "b622db95",
   "metadata": {},
   "outputs": [
    {
     "data": {
      "text/plain": [
       "(3577, 56)"
      ]
     },
     "execution_count": 5,
     "metadata": {},
     "output_type": "execute_result"
    }
   ],
   "source": [
    "x_train.shape"
   ]
  },
  {
   "cell_type": "code",
   "execution_count": 6,
   "id": "6eb4433a",
   "metadata": {},
   "outputs": [
    {
     "data": {
      "text/plain": [
       "LinearRegression()"
      ]
     },
     "execution_count": 6,
     "metadata": {},
     "output_type": "execute_result"
    }
   ],
   "source": [
    "model = LinearRegression().fit(x_train, y_train)\n",
    "model "
   ]
  },
  {
   "cell_type": "code",
   "execution_count": 7,
   "id": "ced55697",
   "metadata": {},
   "outputs": [
    {
     "name": "stdout",
     "output_type": "stream",
     "text": [
      "coefficient of determination: 0.3230701858626682\n"
     ]
    }
   ],
   "source": [
    "r_sq = model.score(x_train, y_train) \n",
    "print('coefficient of determination:', r_sq)"
   ]
  },
  {
   "cell_type": "code",
   "execution_count": 8,
   "id": "86d73c72",
   "metadata": {},
   "outputs": [
    {
     "name": "stdout",
     "output_type": "stream",
     "text": [
      "coefficient of determination (test): 0.3000885664823614\n"
     ]
    }
   ],
   "source": [
    "r_sq = model.score(x_test, y_test) \n",
    "print('coefficient of determination (test):', r_sq)"
   ]
  },
  {
   "cell_type": "code",
   "execution_count": 9,
   "id": "4d4f56df",
   "metadata": {},
   "outputs": [
    {
     "name": "stdout",
     "output_type": "stream",
     "text": [
      "intercept: 61.07987516618816\n",
      "slope: [ 4.72431906e-01  9.47416020e-05  9.01846083e-03  9.92546282e-03\n",
      "  2.14474862e-03  4.69059355e-03  2.27647959e-03 -5.65635339e-03\n",
      "  1.60440760e-02  1.87400276e-02  9.07853894e-03  5.81146542e-02\n",
      "  6.39038419e-02 -1.71959432e-04  4.55887977e-02  1.27777788e-02\n",
      "  3.72653838e-02  2.41374684e-03  4.33836776e-01  5.81450239e-03\n",
      "  6.49084344e-03  3.03021596e-03  3.58530063e-03  4.62154601e-03\n",
      "  5.83552311e-03  3.78759508e-03  3.76134630e-03  2.75579903e-03\n",
      "  2.32719259e-02  5.57369180e-03  4.99018830e-03  3.97256667e-03\n",
      "  4.47256687e-03 -8.76328351e-04 -2.85192650e-02  2.86958966e-03\n",
      " -3.53167273e-04  2.68057353e-02 -3.16427206e-03  1.00187327e-02\n",
      "  6.83900339e-03 -1.65663663e-02  3.80712975e-03  6.12715419e-04\n",
      "  3.05512728e-02 -1.30189992e-04 -4.33652209e-02  5.61524596e-04\n",
      "  3.53303989e-03  5.45636619e-03  3.16578120e-03 -5.55399612e-04\n",
      "  9.83919617e-03 -5.07137281e-03 -8.48206649e-04 -3.05416129e-02]\n"
     ]
    }
   ],
   "source": [
    "print('intercept:', model.intercept_) \n",
    "print('slope:', model.coef_)"
   ]
  },
  {
   "cell_type": "code",
   "execution_count": 10,
   "id": "e7f212a4",
   "metadata": {},
   "outputs": [
    {
     "name": "stdout",
     "output_type": "stream",
     "text": [
      "predicted response:\n",
      "[101.88101757 134.4757008  128.42441665 ... 121.93486488 108.92563778\n",
      " 112.23943326]\n",
      "actual response:\n",
      "[122. 156. 140. ... 164. 110. 136.]\n"
     ]
    }
   ],
   "source": [
    "y_pred = model.predict(x_train) \n",
    "print('predicted response:', y_pred, sep='\\n') \n",
    "print('actual response:', y, sep='\\n') "
   ]
  },
  {
   "cell_type": "code",
   "execution_count": 11,
   "id": "bc2e65e0",
   "metadata": {},
   "outputs": [
    {
     "name": "stdout",
     "output_type": "stream",
     "text": [
      "predicted response:\n",
      "[133.19069247 129.73696975 142.72369043 ... 137.2502282  110.17975582\n",
      " 125.73467729]\n",
      "actual response:\n",
      "[122. 156. 140. ... 164. 110. 136.]\n"
     ]
    }
   ],
   "source": [
    "y_pred = model.predict(x) \n",
    "print('predicted response:', y_pred, sep='\\n') \n",
    "print('actual response:', y, sep='\\n') "
   ]
  }
 ],
 "metadata": {
  "kernelspec": {
   "display_name": "Python 3 (ipykernel)",
   "language": "python",
   "name": "python3"
  },
  "language_info": {
   "codemirror_mode": {
    "name": "ipython",
    "version": 3
   },
   "file_extension": ".py",
   "mimetype": "text/x-python",
   "name": "python",
   "nbconvert_exporter": "python",
   "pygments_lexer": "ipython3",
   "version": "3.8.9"
  }
 },
 "nbformat": 4,
 "nbformat_minor": 5
}
