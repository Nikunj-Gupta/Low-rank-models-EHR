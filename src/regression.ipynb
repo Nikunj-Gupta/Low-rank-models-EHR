{
 "cells": [
  {
   "cell_type": "code",
   "execution_count": 37,
   "id": "8647c1e6",
   "metadata": {},
   "outputs": [],
   "source": [
    "import numpy as np, pandas as pd \n",
    "from sklearn.linear_model import LinearRegression\n",
    "from sklearn.linear_model import Ridge\n",
    "from sklearn.linear_model import Lasso\n",
    "from sklearn.model_selection import train_test_split\n",
    "from sklearn.metrics import mean_squared_error\n",
    "import matplotlib.pyplot as plt"
   ]
  },
  {
   "cell_type": "code",
   "execution_count": 19,
   "id": "95f9ad51",
   "metadata": {},
   "outputs": [],
   "source": [
    "x = np.array([5, 15, 25, 35, 45, 55]).reshape((-1, 1))\n",
    "y = np.array([5, 20, 14, 32, 22, 38])"
   ]
  },
  {
   "cell_type": "code",
   "execution_count": 20,
   "id": "32a09d47",
   "metadata": {},
   "outputs": [],
   "source": [
    "x = np.load('lowrank_estimate.npy') \n",
    "\n",
    "df = pd.read_csv('../data/data_clean.csv', sep=',', encoding='latin-1')\n",
    "df = df.drop(columns=['PAQ706'])\n",
    "df = df[df.BPXSY1.notnull()] \n",
    "y = df.BPXSY1.to_numpy() \n",
    "# df = df.drop(columns=['BPXSY1']) \n",
    "# x = df.to_numpy() \n",
    "# col_mean = np.nanmean(x, axis=0)\n",
    "# inds = np.where(np.isnan(x))\n",
    "# x[inds] = np.take(col_mean, inds[1]) "
   ]
  },
  {
   "cell_type": "code",
   "execution_count": 21,
   "id": "fbac895d",
   "metadata": {},
   "outputs": [],
   "source": [
    "x_train, x_test, y_train, y_test = train_test_split(x, y, test_size=0.3) "
   ]
  },
  {
   "cell_type": "code",
   "execution_count": 14,
   "id": "b622db95",
   "metadata": {},
   "outputs": [
    {
     "data": {
      "text/plain": [
       "(3577, 56)"
      ]
     },
     "execution_count": 14,
     "metadata": {},
     "output_type": "execute_result"
    }
   ],
   "source": [
    "x_train.shape"
   ]
  },
  {
   "cell_type": "code",
   "execution_count": 5,
   "id": "6eb4433a",
   "metadata": {},
   "outputs": [
    {
     "data": {
      "text/plain": [
       "Ridge()"
      ]
     },
     "execution_count": 5,
     "metadata": {},
     "output_type": "execute_result"
    }
   ],
   "source": [
    "# model = LinearRegression().fit(x_train, y_train)\n",
    "# model = Ridge(alpha=1.0)\n",
    "# model.fit(x_train, y_train)\n",
    "# model "
   ]
  },
  {
   "cell_type": "markdown",
   "id": "6ab17d54",
   "metadata": {},
   "source": [
    "Testing ridge regression and lasso"
   ]
  },
  {
   "cell_type": "code",
   "execution_count": 40,
   "id": "32f21aa6",
   "metadata": {},
   "outputs": [
    {
     "name": "stderr",
     "output_type": "stream",
     "text": [
      "/Users/harishchauhan/.virtualenvs/mlenv/lib/python3.10/site-packages/sklearn/linear_model/_coordinate_descent.py:647: ConvergenceWarning: Objective did not converge. You might want to increase the number of iterations, check the scale of the features or consider increasing regularisation. Duality gap: 3.975e+05, tolerance: 1.166e+02\n",
      "  model = cd_fast.enet_coordinate_descent(\n",
      "/Users/harishchauhan/.virtualenvs/mlenv/lib/python3.10/site-packages/sklearn/linear_model/_coordinate_descent.py:647: ConvergenceWarning: Objective did not converge. You might want to increase the number of iterations, check the scale of the features or consider increasing regularisation. Duality gap: 3.968e+05, tolerance: 1.166e+02\n",
      "  model = cd_fast.enet_coordinate_descent(\n",
      "/Users/harishchauhan/.virtualenvs/mlenv/lib/python3.10/site-packages/sklearn/linear_model/_coordinate_descent.py:647: ConvergenceWarning: Objective did not converge. You might want to increase the number of iterations, check the scale of the features or consider increasing regularisation. Duality gap: 3.968e+05, tolerance: 1.166e+02\n",
      "  model = cd_fast.enet_coordinate_descent(\n",
      "/Users/harishchauhan/.virtualenvs/mlenv/lib/python3.10/site-packages/sklearn/linear_model/_coordinate_descent.py:647: ConvergenceWarning: Objective did not converge. You might want to increase the number of iterations, check the scale of the features or consider increasing regularisation. Duality gap: 3.976e+05, tolerance: 1.166e+02\n",
      "  model = cd_fast.enet_coordinate_descent(\n",
      "/Users/harishchauhan/.virtualenvs/mlenv/lib/python3.10/site-packages/sklearn/linear_model/_coordinate_descent.py:647: ConvergenceWarning: Objective did not converge. You might want to increase the number of iterations, check the scale of the features or consider increasing regularisation. Duality gap: 3.975e+05, tolerance: 1.166e+02\n",
      "  model = cd_fast.enet_coordinate_descent(\n",
      "/Users/harishchauhan/.virtualenvs/mlenv/lib/python3.10/site-packages/sklearn/linear_model/_coordinate_descent.py:647: ConvergenceWarning: Objective did not converge. You might want to increase the number of iterations, check the scale of the features or consider increasing regularisation. Duality gap: 3.971e+05, tolerance: 1.166e+02\n",
      "  model = cd_fast.enet_coordinate_descent(\n",
      "/Users/harishchauhan/.virtualenvs/mlenv/lib/python3.10/site-packages/sklearn/linear_model/_coordinate_descent.py:647: ConvergenceWarning: Objective did not converge. You might want to increase the number of iterations, check the scale of the features or consider increasing regularisation. Duality gap: 3.966e+05, tolerance: 1.166e+02\n",
      "  model = cd_fast.enet_coordinate_descent(\n",
      "/Users/harishchauhan/.virtualenvs/mlenv/lib/python3.10/site-packages/sklearn/linear_model/_coordinate_descent.py:647: ConvergenceWarning: Objective did not converge. You might want to increase the number of iterations, check the scale of the features or consider increasing regularisation. Duality gap: 3.964e+05, tolerance: 1.166e+02\n",
      "  model = cd_fast.enet_coordinate_descent(\n",
      "/Users/harishchauhan/.virtualenvs/mlenv/lib/python3.10/site-packages/sklearn/linear_model/_coordinate_descent.py:647: ConvergenceWarning: Objective did not converge. You might want to increase the number of iterations, check the scale of the features or consider increasing regularisation. Duality gap: 3.965e+05, tolerance: 1.166e+02\n",
      "  model = cd_fast.enet_coordinate_descent(\n",
      "/Users/harishchauhan/.virtualenvs/mlenv/lib/python3.10/site-packages/sklearn/linear_model/_coordinate_descent.py:647: ConvergenceWarning: Objective did not converge. You might want to increase the number of iterations, check the scale of the features or consider increasing regularisation. Duality gap: 3.940e+05, tolerance: 1.166e+02\n",
      "  model = cd_fast.enet_coordinate_descent(\n",
      "/Users/harishchauhan/.virtualenvs/mlenv/lib/python3.10/site-packages/sklearn/linear_model/_coordinate_descent.py:647: ConvergenceWarning: Objective did not converge. You might want to increase the number of iterations, check the scale of the features or consider increasing regularisation. Duality gap: 3.940e+05, tolerance: 1.166e+02\n",
      "  model = cd_fast.enet_coordinate_descent(\n",
      "/Users/harishchauhan/.virtualenvs/mlenv/lib/python3.10/site-packages/sklearn/linear_model/_coordinate_descent.py:647: ConvergenceWarning: Objective did not converge. You might want to increase the number of iterations, check the scale of the features or consider increasing regularisation. Duality gap: 3.914e+05, tolerance: 1.166e+02\n",
      "  model = cd_fast.enet_coordinate_descent(\n",
      "/Users/harishchauhan/.virtualenvs/mlenv/lib/python3.10/site-packages/sklearn/linear_model/_coordinate_descent.py:647: ConvergenceWarning: Objective did not converge. You might want to increase the number of iterations, check the scale of the features or consider increasing regularisation. Duality gap: 3.801e+05, tolerance: 1.166e+02\n",
      "  model = cd_fast.enet_coordinate_descent(\n",
      "/Users/harishchauhan/.virtualenvs/mlenv/lib/python3.10/site-packages/sklearn/linear_model/_coordinate_descent.py:647: ConvergenceWarning: Objective did not converge. You might want to increase the number of iterations, check the scale of the features or consider increasing regularisation. Duality gap: 3.801e+05, tolerance: 1.166e+02\n",
      "  model = cd_fast.enet_coordinate_descent(\n",
      "/Users/harishchauhan/.virtualenvs/mlenv/lib/python3.10/site-packages/sklearn/linear_model/_coordinate_descent.py:647: ConvergenceWarning: Objective did not converge. You might want to increase the number of iterations, check the scale of the features or consider increasing regularisation. Duality gap: 3.781e+05, tolerance: 1.166e+02\n",
      "  model = cd_fast.enet_coordinate_descent(\n",
      "/Users/harishchauhan/.virtualenvs/mlenv/lib/python3.10/site-packages/sklearn/linear_model/_coordinate_descent.py:647: ConvergenceWarning: Objective did not converge. You might want to increase the number of iterations, check the scale of the features or consider increasing regularisation. Duality gap: 3.687e+05, tolerance: 1.166e+02\n",
      "  model = cd_fast.enet_coordinate_descent(\n",
      "/Users/harishchauhan/.virtualenvs/mlenv/lib/python3.10/site-packages/sklearn/linear_model/_coordinate_descent.py:647: ConvergenceWarning: Objective did not converge. You might want to increase the number of iterations, check the scale of the features or consider increasing regularisation. Duality gap: 3.277e+05, tolerance: 1.166e+02\n",
      "  model = cd_fast.enet_coordinate_descent(\n",
      "/Users/harishchauhan/.virtualenvs/mlenv/lib/python3.10/site-packages/sklearn/linear_model/_coordinate_descent.py:647: ConvergenceWarning: Objective did not converge. You might want to increase the number of iterations, check the scale of the features or consider increasing regularisation. Duality gap: 3.277e+05, tolerance: 1.166e+02\n",
      "  model = cd_fast.enet_coordinate_descent(\n",
      "/Users/harishchauhan/.virtualenvs/mlenv/lib/python3.10/site-packages/sklearn/linear_model/_coordinate_descent.py:647: ConvergenceWarning: Objective did not converge. You might want to increase the number of iterations, check the scale of the features or consider increasing regularisation. Duality gap: 3.278e+05, tolerance: 1.166e+02\n",
      "  model = cd_fast.enet_coordinate_descent(\n",
      "/Users/harishchauhan/.virtualenvs/mlenv/lib/python3.10/site-packages/sklearn/linear_model/_coordinate_descent.py:647: ConvergenceWarning: Objective did not converge. You might want to increase the number of iterations, check the scale of the features or consider increasing regularisation. Duality gap: 3.278e+05, tolerance: 1.166e+02\n",
      "  model = cd_fast.enet_coordinate_descent(\n",
      "/Users/harishchauhan/.virtualenvs/mlenv/lib/python3.10/site-packages/sklearn/linear_model/_coordinate_descent.py:647: ConvergenceWarning: Objective did not converge. You might want to increase the number of iterations, check the scale of the features or consider increasing regularisation. Duality gap: 7.846e+04, tolerance: 1.166e+02\n",
      "  model = cd_fast.enet_coordinate_descent(\n",
      "/Users/harishchauhan/.virtualenvs/mlenv/lib/python3.10/site-packages/sklearn/linear_model/_coordinate_descent.py:647: ConvergenceWarning: Objective did not converge. You might want to increase the number of iterations, check the scale of the features or consider increasing regularisation. Duality gap: 9.217e+04, tolerance: 1.166e+02\n",
      "  model = cd_fast.enet_coordinate_descent(\n",
      "/Users/harishchauhan/.virtualenvs/mlenv/lib/python3.10/site-packages/sklearn/linear_model/_coordinate_descent.py:647: ConvergenceWarning: Objective did not converge. You might want to increase the number of iterations, check the scale of the features or consider increasing regularisation. Duality gap: 9.219e+04, tolerance: 1.166e+02\n",
      "  model = cd_fast.enet_coordinate_descent(\n",
      "/Users/harishchauhan/.virtualenvs/mlenv/lib/python3.10/site-packages/sklearn/linear_model/_coordinate_descent.py:647: ConvergenceWarning: Objective did not converge. You might want to increase the number of iterations, check the scale of the features or consider increasing regularisation. Duality gap: 9.222e+04, tolerance: 1.166e+02\n",
      "  model = cd_fast.enet_coordinate_descent(\n",
      "/Users/harishchauhan/.virtualenvs/mlenv/lib/python3.10/site-packages/sklearn/linear_model/_coordinate_descent.py:647: ConvergenceWarning: Objective did not converge. You might want to increase the number of iterations, check the scale of the features or consider increasing regularisation. Duality gap: 9.226e+04, tolerance: 1.166e+02\n",
      "  model = cd_fast.enet_coordinate_descent(\n",
      "/Users/harishchauhan/.virtualenvs/mlenv/lib/python3.10/site-packages/sklearn/linear_model/_coordinate_descent.py:647: ConvergenceWarning: Objective did not converge. You might want to increase the number of iterations, check the scale of the features or consider increasing regularisation. Duality gap: 9.231e+04, tolerance: 1.166e+02\n",
      "  model = cd_fast.enet_coordinate_descent(\n",
      "/Users/harishchauhan/.virtualenvs/mlenv/lib/python3.10/site-packages/sklearn/linear_model/_coordinate_descent.py:647: ConvergenceWarning: Objective did not converge. You might want to increase the number of iterations, check the scale of the features or consider increasing regularisation. Duality gap: 9.238e+04, tolerance: 1.166e+02\n",
      "  model = cd_fast.enet_coordinate_descent(\n",
      "/Users/harishchauhan/.virtualenvs/mlenv/lib/python3.10/site-packages/sklearn/linear_model/_coordinate_descent.py:647: ConvergenceWarning: Objective did not converge. You might want to increase the number of iterations, check the scale of the features or consider increasing regularisation. Duality gap: 9.247e+04, tolerance: 1.166e+02\n",
      "  model = cd_fast.enet_coordinate_descent(\n",
      "/Users/harishchauhan/.virtualenvs/mlenv/lib/python3.10/site-packages/sklearn/linear_model/_coordinate_descent.py:647: ConvergenceWarning: Objective did not converge. You might want to increase the number of iterations, check the scale of the features or consider increasing regularisation. Duality gap: 9.259e+04, tolerance: 1.166e+02\n",
      "  model = cd_fast.enet_coordinate_descent(\n",
      "/Users/harishchauhan/.virtualenvs/mlenv/lib/python3.10/site-packages/sklearn/linear_model/_coordinate_descent.py:647: ConvergenceWarning: Objective did not converge. You might want to increase the number of iterations, check the scale of the features or consider increasing regularisation. Duality gap: 9.275e+04, tolerance: 1.166e+02\n",
      "  model = cd_fast.enet_coordinate_descent(\n",
      "/Users/harishchauhan/.virtualenvs/mlenv/lib/python3.10/site-packages/sklearn/linear_model/_coordinate_descent.py:647: ConvergenceWarning: Objective did not converge. You might want to increase the number of iterations, check the scale of the features or consider increasing regularisation. Duality gap: 9.296e+04, tolerance: 1.166e+02\n",
      "  model = cd_fast.enet_coordinate_descent(\n",
      "/Users/harishchauhan/.virtualenvs/mlenv/lib/python3.10/site-packages/sklearn/linear_model/_coordinate_descent.py:647: ConvergenceWarning: Objective did not converge. You might want to increase the number of iterations, check the scale of the features or consider increasing regularisation. Duality gap: 9.324e+04, tolerance: 1.166e+02\n",
      "  model = cd_fast.enet_coordinate_descent(\n",
      "/Users/harishchauhan/.virtualenvs/mlenv/lib/python3.10/site-packages/sklearn/linear_model/_coordinate_descent.py:647: ConvergenceWarning: Objective did not converge. You might want to increase the number of iterations, check the scale of the features or consider increasing regularisation. Duality gap: 9.361e+04, tolerance: 1.166e+02\n",
      "  model = cd_fast.enet_coordinate_descent(\n"
     ]
    }
   ],
   "source": [
    "start = -4\n",
    "stop = 2\n",
    "err_train = []\n",
    "err_test = []\n",
    "# for i in np.arange(start, stop, (stop - start)/30):\n",
    "for i in np.logspace(start, stop, num=50):\n",
    "    # model = Ridge(alpha=i)\n",
    "    model = Lasso(alpha=i)\n",
    "    model.fit(x_train, y_train)\n",
    "    r_sq = model.score(x_train, y_train) \n",
    "    # print('coefficient of determination:', r_sq) \n",
    "    err_train.append(mean_squared_error(y_true=y_train , y_pred=model.predict(x_train)))\n",
    "    err_test.append(mean_squared_error(y_true=y_test , y_pred=model.predict(x_test)))\n",
    "\n",
    "# print(err)\n"
   ]
  },
  {
   "cell_type": "code",
   "execution_count": 41,
   "id": "9053a093",
   "metadata": {},
   "outputs": [
    {
     "name": "stdout",
     "output_type": "stream",
     "text": [
      "[229.27534189857548, 229.2744518593527, 229.27422088621267, 229.27487089759484, 229.274694767378, 229.27457186378808, 229.27588471335142, 229.2761269892971, 229.2763359911473, 229.2755265533135, 229.275645262116, 229.27621957847336, 229.27615697876251, 229.27648139640712, 229.2769676661486, 229.27608073370874, 229.27687914258144, 229.27743948512057, 229.2781833249668, 229.27917117722455, 229.2794527811012, 229.28086292891254, 229.28273351956128, 229.28522397819776, 229.28854422896325, 229.29297865052823, 229.29891493232975, 229.30688581836776, 229.3176305789523, 229.3321872807131, 229.35203404931272, 229.37930962907555, 229.41716428197105, 229.47031427624955, 229.54584849929873, 229.65505298751674, 229.8194656582468, 230.0786953630592, 230.47029373040317, 231.05743833007224, 231.91082716435602, 233.20090877871522, 234.94182286033242, 237.3390361914953, 240.8796521208827, 246.39959830535935, 255.70990744345005, 271.5544590618322, 288.4857590677551, 303.09326005762665]\n"
     ]
    },
    {
     "data": {
      "image/png": "[encoded data removed]",
      "text/plain": [
       "<Figure size 432x288 with 1 Axes>"
      ]
     },
     "metadata": {
      "needs_background": "light"
     },
     "output_type": "display_data"
    }
   ],
   "source": [
    "# plt.plot(np.logspace(start, stop, num=50), err_train)\n",
    "plt.plot(np.logspace(start, stop, num=50), err_test)\n",
    "print(err_test)"
   ]
  },
  {
   "cell_type": "code",
   "execution_count": 6,
   "id": "ced55697",
   "metadata": {},
   "outputs": [
    {
     "name": "stdout",
     "output_type": "stream",
     "text": [
      "coefficient of determination: 0.3140065372768568\n"
     ]
    }
   ],
   "source": [
    "r_sq = model.score(x_train, y_train) \n",
    "print('coefficient of determination:', r_sq)"
   ]
  },
  {
   "cell_type": "code",
   "execution_count": 7,
   "id": "86d73c72",
   "metadata": {},
   "outputs": [
    {
     "name": "stdout",
     "output_type": "stream",
     "text": [
      "coefficient of determination (test): 0.3211846866795547\n"
     ]
    }
   ],
   "source": [
    "r_sq = model.score(x_test, y_test) \n",
    "print('coefficient of determination (test):', r_sq)"
   ]
  },
  {
   "cell_type": "code",
   "execution_count": 8,
   "id": "4d4f56df",
   "metadata": {},
   "outputs": [
    {
     "name": "stdout",
     "output_type": "stream",
     "text": [
      "intercept: 60.104336583029486\n",
      "slope: [ 4.68671775e-01  3.68250049e-05  9.33982352e-03  1.03828685e-02\n",
      "  2.25397387e-03  4.88960453e-03  2.32706798e-03 -5.26143933e-03\n",
      "  1.70352446e-02  1.96517911e-02  9.29767272e-03  5.96505462e-02\n",
      "  6.42148281e-02 -2.93320668e-03  3.34205837e-02  9.64662354e-03\n",
      "  4.05937671e-02  2.43654693e-03  4.55017501e-01  5.93894027e-03\n",
      "  6.67906594e-03  3.16957973e-03  3.67649063e-03  4.72725241e-03\n",
      "  5.99266648e-03  3.98101177e-03  3.85487089e-03  2.84229533e-03\n",
      "  2.38165203e-02  5.66418794e-03  5.13909215e-03  4.07901696e-03\n",
      "  4.61374842e-03 -5.28584884e-04 -2.57738157e-02  5.06823103e-03\n",
      " -5.45534538e-03  2.72687543e-02 -3.54912402e-03  1.07328128e-02\n",
      "  6.88324534e-03 -1.78028310e-02  3.65202479e-03  3.11307692e-04\n",
      "  2.79604411e-02 -2.03651636e-04 -4.90307977e-02  6.44533210e-04\n",
      "  3.51606513e-03  5.46105464e-03  3.17980138e-03 -2.66317124e-04\n",
      "  9.60562433e-03  1.31575337e-03 -8.13364894e-04 -3.56392120e-02]\n"
     ]
    }
   ],
   "source": [
    "print('intercept:', model.intercept_) \n",
    "print('slope:', model.coef_)"
   ]
  },
  {
   "cell_type": "code",
   "execution_count": 9,
   "id": "e7f212a4",
   "metadata": {},
   "outputs": [
    {
     "name": "stdout",
     "output_type": "stream",
     "text": [
      "predicted response:\n",
      "[124.51183652 134.34877356 134.84283338 ... 127.57039792 124.29850225\n",
      " 132.98641372]\n",
      "actual response:\n",
      "[122. 156. 140. ... 164. 110. 136.]\n"
     ]
    }
   ],
   "source": [
    "y_pred = model.predict(x_train) \n",
    "print('predicted response:', y_pred, sep='\\n') \n",
    "print('actual response:', y, sep='\\n') "
   ]
  },
  {
   "cell_type": "code",
   "execution_count": 10,
   "id": "bc2e65e0",
   "metadata": {},
   "outputs": [
    {
     "name": "stdout",
     "output_type": "stream",
     "text": [
      "predicted response:\n",
      "[132.99316239 129.24252648 142.35465887 ... 136.7679094  110.42250846\n",
      " 125.30112335]\n",
      "actual response:\n",
      "[122. 156. 140. ... 164. 110. 136.]\n"
     ]
    }
   ],
   "source": [
    "y_pred = model.predict(x) \n",
    "print('predicted response:', y_pred, sep='\\n') \n",
    "print('actual response:', y, sep='\\n') "
   ]
  }
 ],
 "metadata": {
  "kernelspec": {
   "display_name": "Python 3 (ipykernel)",
   "language": "python",
   "name": "python3"
  },
  "language_info": {
   "codemirror_mode": {
    "name": "ipython",
    "version": 3
   },
   "file_extension": ".py",
   "mimetype": "text/x-python",
   "name": "python",
   "nbconvert_exporter": "python",
   "pygments_lexer": "ipython3",
   "version": "3.8.9"
  }
 },
 "nbformat": 4,
 "nbformat_minor": 5
}
